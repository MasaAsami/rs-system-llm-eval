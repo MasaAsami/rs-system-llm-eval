{
 "cells": [
  {
   "cell_type": "markdown",
   "metadata": {},
   "source": [
    "# Plan‐Project Classification Validation"
   ]
  },
  {
   "cell_type": "code",
   "execution_count": null,
   "metadata": {
    "colab": {
     "base_uri": "https://localhost:8080/"
    },
    "id": "CcyAVYDiDH8q",
    "outputId": "9bd6a609-e2e4-4540-cbc8-5265bc004114"
   },
   "outputs": [],
   "source": [
    "import pandas as pd\n",
    "import numpy as np\n",
    "import os\n",
    "from datetime import datetime\n",
    "import json\n",
    "from openai import OpenAI"
   ]
  },
  {
   "cell_type": "code",
   "execution_count": null,
   "metadata": {
    "id": "fi1Vs_lCDJ3W"
   },
   "outputs": [],
   "source": [
    "BASE_PATH = \"../data/\""
   ]
  },
  {
   "cell_type": "code",
   "execution_count": null,
   "metadata": {
    "colab": {
     "base_uri": "https://localhost:8080/"
    },
    "id": "dAfZQUQUEFIA",
    "outputId": "0507d926-1666-4e32-845d-d4065df39639"
   },
   "outputs": [],
   "source": [
    "description_df = pd.read_csv(BASE_PATH + \"raw/1-2_RS_2024_基本情報_事業概要等.zip\")\n",
    "sme_description_df = description_df.query(\n",
    "    \"主要経費 == '中小企業対策費' and 政策所管府省庁 == '経済産業省'\"\n",
    ").reset_index(drop=True)\n",
    "kpi_df = pd.read_csv(BASE_PATH + \"raw/3-1_RS_2024_効果発現経路_目標・実績.zip\").query(\n",
    "    \"予算事業ID in @id_list\"\n",
    ")\n",
    "check_df = pd.read_csv(BASE_PATH + \"raw/4-1_RS_2024_点検・評価.zip\").query(\n",
    "    \"予算事業ID in @id_list\"\n",
    ")\n",
    "amount_df = pd.read_csv(BASE_PATH + \"raw/2-1_RS_2024_予算・執行_サマリ.zip\").query(\n",
    "    \"予算事業ID in @id_list and 会計区分 == '一般会計' and 予算年度 == 2024\"\n",
    ")[[\"事業年度\", \"予算事業ID\", \"当初予算\"]]"
   ]
  },
  {
   "cell_type": "code",
   "execution_count": null,
   "metadata": {
    "id": "PR8eEtgRIV6W"
   },
   "outputs": [],
   "source": [
    "dtm = sme_description_df[\n",
    "    [\n",
    "        \"事業年度\",\n",
    "        \"予算事業ID\",\n",
    "        \"事業名\",\n",
    "        \"政策所管府省庁\",\n",
    "        \"事業の目的\",\n",
    "        \"現状・課題\",\n",
    "        \"事業の概要\",\n",
    "        \"事業区分\",\n",
    "        \"事業開始年度\",\n",
    "        \"事業終了（予定）年度\",\n",
    "    ]\n",
    "]\n",
    "dtm = dtm.merge(amount_df, on=[\"事業年度\", \"予算事業ID\"]).query(\"当初予算 > 0\")"
   ]
  },
  {
   "cell_type": "markdown",
   "metadata": {
    "id": "70twelZfz7O2"
   },
   "source": [
    "## LLM  classification"
   ]
  },
  {
   "cell_type": "code",
   "execution_count": null,
   "metadata": {
    "id": "V3dcHl4CKDSq"
   },
   "outputs": [],
   "source": [
    "client = OpenAI(\n",
    "    # This is the default and can be omitted\n",
    "    api_key=userdata.get(\"OPENAI_API_KEY\"),\n",
    ")"
   ]
  },
  {
   "cell_type": "markdown",
   "metadata": {
    "id": "ea5ZXwSm0CLS"
   },
   "source": [
    "### 予算事業に関する分類質問"
   ]
  },
  {
   "cell_type": "code",
   "execution_count": null,
   "metadata": {
    "id": "yBHNy-HlinN9"
   },
   "outputs": [],
   "source": [
    "str_output = dtm[[\"予算事業ID\", \"output\"]].to_string(index=False)\n",
    "content_text = \"\"\"\n",
    "あなたはとても日本の国家公務員であり、各省庁の予算事業の分類を行います.\\n\n",
    "入力したデータを読み取って、各予算事業IDに事業分類を割り振ってください\\n\n",
    "与えられたデータフレームは 予算事業ID: 予算事業の識別ID、事業の概要: 「当該事業の内容」　です。\\n\n",
    "\n",
    "事業分類(class)は、以下の3つから選んでください。\\n\n",
    "基本的にPDCAで考えてください。\\n\n",
    "\n",
    "# 事業分類の考え方\n",
    "## 軸１：PDCAにおけるDoなのか? Planなのか？\n",
    "[Do]\n",
    "- 直接社会への介入を行っているもの\n",
    "- 補助金や広報など、社会に対してなんらかの行動変容を促すことを目指す事業\n",
    "[Plan]\n",
    "- 介入そのもの調査　（PoCや調査事業）\n",
    "- 介入そのものコンセプト（概念）の実証（本当にこの介入って必要なのか？現実的なのか？）\n",
    "- 介入の事前調査など\n",
    "[その他]\n",
    "- 経費、人件費　等\n",
    "\n",
    "\n",
    "# 事業分類\n",
    "1. Do事業\\n\n",
    "目的：\n",
    "直接社会への介入を行っているもの\n",
    "社会（市民、企業、他官庁等）の行動や意識に変化をもたらすことを目指す事業\\n\n",
    "例： 広報・啓発キャンペーン、インセンティブ提供型プログラム、規制や制度改正の導入支援など\\n\n",
    "\n",
    "2. Plan事業\\n\n",
    "- Do事業の事前事業に該当するような事業\n",
    "- エビデンスギャップを埋めるための実験もこれに含める\n",
    "- 介入そのもの調査　（PoCや調査事業）\n",
    "- 介入そのものコンセプト（概念）の実証（本当にこの介入って必要なのか？現実的なのか？）\n",
    "- 介入の事前調査など\n",
    "- 「実証事業」や「調査事業」といった文言が入る可能性が高い\n",
    "- また社会に直接働きかけをしていても、当該施策の対象者がごく少数であれば、それは実証事業として「Plan事業」と見なしなさい\n",
    "\n",
    "3. その他\\n\n",
    "目的： 上記３類型に該当しない、日常的な行政運営や補助業務、内部管理・支援業務など\\n\n",
    "例： 業務プロセスの改善、内部研修、庶務的な業務、事務管理など\\n\n",
    "\n",
    "# 出力はdict ※これ以外は絶対出力しないで！(不足説明は絶対不要)\\n\n",
    "- ID: もとのデータフレームの予算事業IDに対応\\n\n",
    "- class: あなたが付与した分類名（日本語で）\\n\n",
    "# 出力形式 ※これ以外は絶対出力しないで！\\n\n",
    "[\n",
    "    {\"ID\" : 3503, \"class\": \"Plan事業\"},\n",
    "    {\"ID\" : 3504, \"class\": \"Do事業\"},\n",
    "    {\"ID\" : 3505, \"class\": \"その他\"},\n",
    "]\n",
    "\"\"\"\n",
    "\n",
    "\n",
    "completion = client.chat.completions.create(\n",
    "    model=\"gpt-4o\",\n",
    "    temperature=0,\n",
    "    messages=[\n",
    "        {\"role\": \"developer\", \"content\": content_text},\n",
    "        {\"role\": \"user\", \"content\": f\"以下のデータフレームが経済産業省のデータになります\\n{str_output}\"},\n",
    "    ],\n",
    ")\n",
    "\n",
    "\n",
    "chatgpt_class_dict = json.loads(\n",
    "    completion.choices[0].message.content.strip(\"```json\\n\").strip(\"```\")\n",
    ")\n",
    "chatgpt_class = pd.DataFrame(chatgpt_class_dict)\n",
    "chatgpt_class.columns = [\"予算事業ID\", \"llm_class\"]\n",
    "dtm_with_class = dtm.merge(chatgpt_class, on=\"予算事業ID\", how=\"left\")"
   ]
  },
  {
   "cell_type": "code",
   "execution_count": null,
   "metadata": {
    "colab": {
     "base_uri": "https://localhost:8080/",
     "height": 289
    },
    "id": "gNpeYWe1lkhM",
    "outputId": "94b93f86-de0c-4dff-d749-d06629551e60"
   },
   "outputs": [],
   "source": [
    "# サンプルチェック\n",
    "dtm_with_class.query(\"予算事業ID == 6080\")"
   ]
  },
  {
   "cell_type": "code",
   "execution_count": null,
   "metadata": {
    "colab": {
     "base_uri": "https://localhost:8080/",
     "height": 209
    },
    "id": "JBBdAKIQdlia",
    "outputId": "757a8196-f183-4a60-ba06-64903fa2a473"
   },
   "outputs": [],
   "source": [
    "dtm_with_class.groupby(\"llm_class\")[\"予算事業ID\"].count()"
   ]
  },
  {
   "cell_type": "code",
   "execution_count": null,
   "metadata": {
    "colab": {
     "base_uri": "https://localhost:8080/"
    },
    "id": "PeYOrHj0CZBw",
    "outputId": "cdb9bb20-9324-41f5-b868-8c1a6a6cc301"
   },
   "outputs": [],
   "source": [
    "len(dtm_with_class) # 50"
   ]
  },
  {
   "cell_type": "markdown",
   "metadata": {
    "id": "jhkh1K2b0J0P"
   },
   "source": [
    "## vs.  our simplified classification"
   ]
  },
  {
   "cell_type": "code",
   "execution_count": null,
   "metadata": {},
   "outputs": [],
   "source": [
    "from sklearn.metrics import classification_report, confusion_matrix\n",
    "import pprint"
   ]
  },
  {
   "cell_type": "code",
   "execution_count": null,
   "metadata": {},
   "outputs": [],
   "source": [
    "plan_words_list = [\"実証\", \"PoC\", \"poc\", \"POC\", \"POC\", \"概念実証\", \"調査\", \"調査事業\"]\n",
    "# plan_words_listを'|'.join()で結合\n",
    "pattern = \"|\".join(plan_words_list)\n",
    "\n",
    "# 'output'列に対してcontainsを適用し、結果を0または1に変換\n",
    "dtm_with_class[\"plan_project\"] = (\n",
    "    dtm_with_class[\"output\"].str.contains(pattern, case=False, na=False).astype(int)\n",
    ")\n",
    "dtm_with_class[\"llm_plan_project\"] = np.where(\n",
    "    dtm_with_class[\"llm_class\"] == \"Plan事業\", 1, 0\n",
    ")"
   ]
  },
  {
   "cell_type": "code",
   "execution_count": null,
   "metadata": {},
   "outputs": [],
   "source": [
    "print(\n",
    "    classification_report(\n",
    "        dtm_with_class[\"llm_plan_project\"], dtm_with_class[\"plan_project\"]\n",
    "    )\n",
    ")"
   ]
  },
  {
   "cell_type": "code",
   "execution_count": null,
   "metadata": {},
   "outputs": [],
   "source": [
    "print(\n",
    "    confusion_matrix(dtm_with_class[\"llm_plan_project\"], dtm_with_class[\"plan_project\"])\n",
    ")"
   ]
  }
 ],
 "metadata": {
  "colab": {
   "authorship_tag": "ABX9TyMMDRpWJxEOtk840tTa/fhN",
   "include_colab_link": true,
   "provenance": []
  },
  "kernelspec": {
   "display_name": "Python 3 (ipykernel)",
   "language": "python",
   "name": "python3"
  },
  "language_info": {
   "codemirror_mode": {
    "name": "ipython",
    "version": 3
   },
   "file_extension": ".py",
   "mimetype": "text/x-python",
   "name": "python",
   "nbconvert_exporter": "python",
   "pygments_lexer": "ipython3",
   "version": "3.11.5"
  }
 },
 "nbformat": 4,
 "nbformat_minor": 1
}
