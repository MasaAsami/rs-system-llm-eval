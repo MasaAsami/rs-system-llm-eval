{
 "cells": [
  {
   "cell_type": "code",
   "execution_count": null,
   "metadata": {
    "colab": {
     "base_uri": "https://localhost:8080/"
    },
    "id": "QaZIOvoP-VQk",
    "outputId": "e52efc92-e6dc-4e4d-e033-c11287746140"
   },
   "outputs": [],
   "source": [
    "import time\n",
    "import pandas as pd\n",
    "import numpy as np\n",
    "import scipy.stats as stats\n",
    "import statsmodels.formula.api as smf\n",
    "from datetime import datetime\n",
    "import matplotlib.pyplot as plt\n",
    "import pandas as pd\n",
    "import seaborn as sns\n",
    "import json"
   ]
  },
  {
   "cell_type": "markdown",
   "metadata": {},
   "source": [
    "# EDA"
   ]
  },
  {
   "cell_type": "code",
   "execution_count": null,
   "metadata": {
    "id": "VwfUtdc8-0zW"
   },
   "outputs": [],
   "source": [
    "BASE_PATH = \"../data/\""
   ]
  },
  {
   "cell_type": "code",
   "execution_count": null,
   "metadata": {
    "id": "q6rvzCOw-7ZV"
   },
   "outputs": [],
   "source": [
    "df = pd.read_csv(BASE_PATH + \"dtm/20250504_pre_logic_point_data.csv\")"
   ]
  },
  {
   "cell_type": "code",
   "execution_count": null,
   "metadata": {
    "colab": {
     "base_uri": "https://localhost:8080/",
     "height": 362
    },
    "id": "l8_-nEY2a483",
    "outputId": "c87e7346-362a-4b01-8762-5cb4d82e03e4"
   },
   "outputs": [],
   "source": [
    "df.groupby(\"main_expenses\").agg(\n",
    "    {\"budget_project_id\": \"count\", \"plan_project\": \"sum\"}\n",
    ").sort_values(\"budget_project_id\", ascending=False)"
   ]
  },
  {
   "cell_type": "code",
   "execution_count": null,
   "metadata": {
    "id": "IFeyKJJU_-Cw"
   },
   "outputs": [],
   "source": [
    "df[\"len_project_summary\"] = df[\"project_summary\"].apply(lambda x: len(x))\n",
    "df[\"len_output\"] = df[\"output\"].apply(lambda x: len(str(x)))\n",
    "df[\"len_outcomes\"] = df[\"outcomes\"].apply(lambda x: len(x))\n",
    "\n",
    "df[\"input_text_length\"] = (\n",
    "    df[\"len_project_summary\"] + df[\"len_output\"] + df[\"len_outcomes\"]\n",
    ")"
   ]
  },
  {
   "cell_type": "code",
   "execution_count": null,
   "metadata": {
    "colab": {
     "base_uri": "https://localhost:8080/",
     "height": 143
    },
    "id": "U9BQrse_lUlf",
    "outputId": "6ec55c76-0b94-48c7-c774-4e0fa34e2e68"
   },
   "outputs": [],
   "source": [
    "df.groupby(\"plan_project\").agg(\n",
    "    {\n",
    "        \"len_project_summary\": \"mean\",\n",
    "        \"len_output\": \"mean\",\n",
    "        \"len_outcomes\": \"mean\",\n",
    "        \"input_text_length\": \"mean\",\n",
    "    }\n",
    ")"
   ]
  },
  {
   "cell_type": "code",
   "execution_count": null,
   "metadata": {
    "colab": {
     "base_uri": "https://localhost:8080/",
     "height": 143
    },
    "id": "tH0h852SphIr",
    "outputId": "1f5b26c4-0a88-40ee-c391-04e915fae546"
   },
   "outputs": [],
   "source": [
    "df.groupby(\"plan_project\").agg(\n",
    "    {\n",
    "        \"len_project_summary\": \"median\",\n",
    "        \"len_output\": \"median\",\n",
    "        \"len_outcomes\": \"median\",\n",
    "        \"input_text_length\": \"median\",\n",
    "    }\n",
    ")"
   ]
  },
  {
   "cell_type": "code",
   "execution_count": null,
   "metadata": {
    "colab": {
     "base_uri": "https://localhost:8080/",
     "height": 143
    },
    "id": "983izV5CpZJu",
    "outputId": "85beb7c6-db4f-481d-9842-d952681a3108"
   },
   "outputs": [],
   "source": [
    "df.groupby(\"plan_project\").agg(\n",
    "    {\n",
    "        \"len_project_summary\": \"std\",\n",
    "        \"len_output\": \"std\",\n",
    "        \"len_outcomes\": \"std\",\n",
    "        \"input_text_length\": \"std\",\n",
    "    }\n",
    ")"
   ]
  },
  {
   "cell_type": "code",
   "execution_count": null,
   "metadata": {
    "colab": {
     "base_uri": "https://localhost:8080/",
     "height": 921
    },
    "id": "1_O2Pk9XlpiL",
    "outputId": "f9fca8c3-ee61-480f-b11b-361393356792"
   },
   "outputs": [],
   "source": [
    "fig, ax = plt.subplots(1, 1, dpi=300, figsize=(5, 3))\n",
    "ax = sns.boxplot(\n",
    "    data=df,\n",
    "    x=\"plan_project\",\n",
    "    y=\"input_text_length\",\n",
    "    color=\".8\",\n",
    "    flierprops={\"marker\": \"x\"},\n",
    ")\n",
    "ax.set_xlabel(r\"$\\it{Plan}$ project\")\n",
    "ax.set_ylabel(\"Input text length\")\n",
    "ax.set_ylim(0, 1500)\n",
    "plt.show()"
   ]
  },
  {
   "cell_type": "code",
   "execution_count": null,
   "metadata": {
    "colab": {
     "base_uri": "https://localhost:8080/",
     "height": 268
    },
    "id": "Fy4cefTHCA5p",
    "outputId": "57648c8a-bc67-49f8-91e7-35759435bb8a"
   },
   "outputs": [],
   "source": [
    "pivot_df = df.pivot_table(\n",
    "    index=\"logic1_point\",\n",
    "    columns=\"plan_project\",\n",
    "    values=[\"budget_project_id\"],\n",
    "    aggfunc=\"count\",\n",
    ")\n",
    "pivot_df[\"percent_0\"] = (\n",
    "    pivot_df[(\"budget_project_id\", 0)] / pivot_df[(\"budget_project_id\", 0)].sum() * 100\n",
    ")\n",
    "pivot_df[\"percent_1\"] = (\n",
    "    pivot_df[(\"budget_project_id\", 1)] / pivot_df[(\"budget_project_id\", 1)].sum() * 100\n",
    ")\n",
    "pivot_df"
   ]
  },
  {
   "cell_type": "code",
   "execution_count": null,
   "metadata": {
    "colab": {
     "base_uri": "https://localhost:8080/",
     "height": 143
    },
    "id": "kv4DkwI90X4_",
    "outputId": "23465f3c-5557-4762-b404-3c0f3252632f"
   },
   "outputs": [],
   "source": [
    "df.groupby(\"plan_project\").agg({\"logic1_point\": \"mean\"})"
   ]
  },
  {
   "cell_type": "markdown",
   "metadata": {},
   "source": [
    "# regression"
   ]
  },
  {
   "cell_type": "code",
   "execution_count": null,
   "metadata": {
    "id": "K7hlwyPaAYSK"
   },
   "outputs": [],
   "source": [
    "import statsmodels.formula.api as smf"
   ]
  },
  {
   "cell_type": "code",
   "execution_count": null,
   "metadata": {
    "colab": {
     "base_uri": "https://localhost:8080/"
    },
    "id": "eHpO23zR8ye8",
    "outputId": "486c3681-6d9a-4d82-ae34-b97e6bf957e0"
   },
   "outputs": [],
   "source": [
    "formula = 'logic1_point ~ plan_project'\n",
    "result = smf.ols(formula, df.dropna(subset=[\"logic1_point\"])).fit()\n",
    "print(result.summary())"
   ]
  },
  {
   "cell_type": "code",
   "execution_count": null,
   "metadata": {
    "colab": {
     "base_uri": "https://localhost:8080/"
    },
    "id": "XpXFqcr183gE",
    "outputId": "51386bdf-ec28-442d-f0fe-f26c56251df2"
   },
   "outputs": [],
   "source": [
    "formula = 'logic1_point ~ plan_project +  main_expenses'\n",
    "result = smf.ols(formula, df.dropna(subset=[\"logic1_point\"])).fit()\n",
    "print(result.summary())"
   ]
  },
  {
   "cell_type": "code",
   "execution_count": null,
   "metadata": {
    "colab": {
     "base_uri": "https://localhost:8080/"
    },
    "id": "_SSl8K1V87pg",
    "outputId": "9974b6c0-3e82-40de-a38c-fd021d94b65b"
   },
   "outputs": [],
   "source": [
    "formula = 'logic1_point ~ plan_project + input_text_length + main_expenses'\n",
    "result = smf.ols(formula, df.dropna(subset=[\"logic1_point\"])).fit()\n",
    "print(result.summary())"
   ]
  },
  {
   "cell_type": "code",
   "execution_count": null,
   "metadata": {
    "colab": {
     "base_uri": "https://localhost:8080/"
    },
    "id": "z-0tAltluB-b",
    "outputId": "38c1ccc5-e925-4e58-a164-2e42259d59b1"
   },
   "outputs": [],
   "source": [
    "formula = 'logic1_point ~ plan_project*main_expenses + input_text_length'\n",
    "result = smf.ols(formula, df.dropna(subset=[\"logic1_point\"])).fit()\n",
    "print(result.summary())"
   ]
  },
  {
   "cell_type": "code",
   "execution_count": null,
   "metadata": {
    "colab": {
     "base_uri": "https://localhost:8080/"
    },
    "id": "3UD_dqncRBrL",
    "outputId": "61c9088d-c258-47cd-a911-afffddf6609a"
   },
   "outputs": [],
   "source": [
    "formula = 'logic1_point ~ plan_project + input_text_length'\n",
    "result = smf.ols(formula, df.dropna(subset=[\"logic1_point\"])).fit()\n",
    "print(result.summary())"
   ]
  },
  {
   "cell_type": "markdown",
   "metadata": {},
   "source": [
    "# Hierarchical Bayes"
   ]
  },
  {
   "cell_type": "code",
   "execution_count": null,
   "metadata": {
    "id": "EAn9Fq-qqmi0"
   },
   "outputs": [],
   "source": [
    "import arviz as az\n",
    "import pymc as pm\n",
    "\n",
    "RANDOM_SEED = 0\n",
    "rng = np.random.default_rng(RANDOM_SEED)\n",
    "az.style.use(\"arviz-darkgrid\")"
   ]
  },
  {
   "cell_type": "code",
   "execution_count": null,
   "metadata": {
    "colab": {
     "base_uri": "https://localhost:8080/",
     "height": 930,
     "referenced_widgets": [
      "8313f1a320804bf9a6e70121da5f1a37",
      "bcd617f939914f079fd3ca7e80d2a2cb"
     ]
    },
    "id": "QpBjk3n4HYfL",
    "outputId": "893c6307-a45e-4c18-a187-8dbc28a6ec9f"
   },
   "outputs": [],
   "source": [
    "data = df.dropna(subset=[\"logic1_point\"])\n",
    "# One-Hot Encoding: main_expenses カテゴリカル変数をエンコード\n",
    "data_encoded = pd.get_dummies(data[\"main_expenses\"], prefix=\"main_expenses\")\n",
    "data = pd.concat([data, data_encoded], axis=1)\n",
    "\n",
    "# logic1_pointの標準偏差を計算\n",
    "logic1_std = data[\"logic1_point\"].std()\n",
    "\n",
    "with pm.Model() as hierarchical_model:\n",
    "    # 共有される事前分布 (prior)\n",
    "    mu_intercept = pm.Normal(\"mu_intercept\", mu=0, sigma=5)  # 切片の平均\n",
    "    sigma_intercept = pm.HalfNormal(\"sigma_intercept\", sigma=5)  # 切片の標準偏差\n",
    "    intercept = pm.Normal(\n",
    "        \"intercept\",\n",
    "        mu=mu_intercept,\n",
    "        sigma=sigma_intercept,\n",
    "        shape=(data_encoded.shape[1],),\n",
    "        dims=\"main_expenses\",\n",
    "    )  # 各 `main_expenses` ごとの切片\n",
    "\n",
    "    # 観測誤差の標準偏差（sigma）\n",
    "    sigma = pm.HalfNormal(\"sigma\", sigma=logic1_std)  # 観測誤差の標準偏差\n",
    "\n",
    "    # `plan_project` の係数の階層ベイズ\n",
    "    mu_coef_plan = pm.Normal(\n",
    "        \"mu_coef_plan\", mu=0, sigma=5\n",
    "    )  # `plan_project` の係数の共通の事前分布\n",
    "    sigma_coef_plan = pm.HalfNormal(\n",
    "        \"sigma_coef_plan\", sigma=5\n",
    "    )  # `plan_project` の係数の標準偏差\n",
    "    coef_plan_project = pm.Normal(\n",
    "        \"coef_plan_project\",\n",
    "        mu=mu_coef_plan,\n",
    "        sigma=sigma_coef_plan,\n",
    "        shape=(data_encoded.shape[1],),\n",
    "        dims=\"main_expenses\",\n",
    "    )  # 各 `main_expenses` ごとの係数\n",
    "\n",
    "    # 各調整変数に対する回帰係数\n",
    "    coef_input_text_length = pm.Normal(\"coef_input_text_length\", mu=0, sigma=5)\n",
    "\n",
    "    # 線形回帰モデルの式 (階層ベイズ)\n",
    "    mu = 0\n",
    "    # 各 `main_expenses` ごとに異なる切片と影響を加える\n",
    "    for i, expense in enumerate(data_encoded.columns):\n",
    "        # `main_expenses` ごとの切片を加える\n",
    "        mu += intercept[i] * data[expense]\n",
    "\n",
    "        # `plan_project` の係数を加える\n",
    "        mu += coef_plan_project[i] * data[expense] * data[\"plan_project\"]\n",
    "\n",
    "    # 調整変数を加味する\n",
    "    mu += coef_input_text_length * data[\"input_text_length\"]\n",
    "\n",
    "    # 観測モデル\n",
    "    observed = pm.Normal(\"observed\", mu=mu, sigma=sigma, observed=data[\"logic1_point\"])\n",
    "\n",
    "    # サンプリング\n",
    "    trace_h = pm.sample(500, tune=500, target_accept=0.9, cores=4)\n",
    "\n",
    "# 結果のサマリー表示\n",
    "pm.summary(trace_h)"
   ]
  },
  {
   "cell_type": "code",
   "execution_count": null,
   "metadata": {
    "colab": {
     "base_uri": "https://localhost:8080/",
     "height": 107
    },
    "id": "12Q5rck-VVyn",
    "outputId": "21e7743f-e752-4462-82dc-bf0d06805d26"
   },
   "outputs": [],
   "source": [
    "labels = [\n",
    "    \": Energy Policy Expenditure\",\n",
    "    \": Small and Medium Enterprise Support Expenditure\",\n",
    "    \": Public Health and Sanitation Expenditure\",\n",
    "    \": Educational Promotion Grants\",\n",
    "    \": Social Welfare and Living Assistance Expenditure\",\n",
    "    \": Science and Technology Promotion Expenditure\",\n",
    "    \": Defense Expenditure\",\n",
    "    \": Employment and Workers' Compensation Expenditure\",\n",
    "    \": Food Security and Supply Expenditure\",\n",
    "]\n",
    "from_str = [\n",
    "    \"[0]\",\n",
    "    \"[1]\",\n",
    "    \"[2]\",\n",
    "    \"[3]\",\n",
    "    \"[4]\",\n",
    "    \"[5]\",\n",
    "    \"[6]\",\n",
    "    \"[7]\",\n",
    "    \"[8]\",\n",
    "]\n",
    "\n",
    "\n",
    "summary_table = pm.summary(trace_h)\n",
    "\n",
    "# 変換用の辞書を作成\n",
    "replace_dict = dict(zip(from_str, labels))\n",
    "coef_list = list(summary_table.index)\n",
    "# replace()を使って簡単に置換\n",
    "translated_list = []  # 初期化\n",
    "for i, coef in enumerate(coef_list):\n",
    "    for key, value in replace_dict.items():\n",
    "        coef_list[i] = coef_list[i].replace(key, value)\n",
    "\n",
    "# 結果を表示\n",
    "# summary_table.index = coef_list\n",
    "summary_table[[\"mean\", \"sd\", \"ess_bulk\", \"ess_tail\", \"r_hat\"]].to_latex()"
   ]
  },
  {
   "cell_type": "code",
   "execution_count": null,
   "metadata": {
    "colab": {
     "base_uri": "https://localhost:8080/"
    },
    "id": "ZRt3eBqKUdvi",
    "outputId": "9faa69fe-ffda-40bd-caab-9433478b746b"
   },
   "outputs": [],
   "source": [
    "# TraceからR-hatを計算\n",
    "rhat = az.rhat(trace_h)\n",
    "print(rhat)"
   ]
  },
  {
   "cell_type": "code",
   "execution_count": null,
   "metadata": {
    "colab": {
     "base_uri": "https://localhost:8080/",
     "height": 331
    },
    "id": "QcnC3ndCo1A6",
    "outputId": "5678079a-5461-43c9-d6d9-60af3600e88b"
   },
   "outputs": [],
   "source": [
    "summaey_table = az.summary(trace_h, round_to=3, var_names=\"coef_plan_project\")\n",
    "summaey_table.index = [\n",
    "    \"Energy Policy Expenditure\",\n",
    "    \"Small and Medium Enterprise Support Expenditure\",\n",
    "    \"Public Health and Sanitation Expenditure\",\n",
    "    \"Educational Promotion Grants\",\n",
    "    \"Social Welfare and Living Assistance Expenditure\",\n",
    "    \"Science and Technology Promotion Expenditure\",\n",
    "    \"Defense Expenditure\",\n",
    "    \"Employment and Workers' Compensation Expenditure\",\n",
    "    \"Food Security and Supply Expenditure\",\n",
    "]\n",
    "summaey_table"
   ]
  },
  {
   "cell_type": "code",
   "execution_count": null,
   "metadata": {
    "colab": {
     "base_uri": "https://localhost:8080/",
     "height": 494
    },
    "id": "91pD8Oh_pDje",
    "outputId": "9ece92cf-10c7-4088-e0eb-c3adad348e13"
   },
   "outputs": [],
   "source": [
    "pm.model_to_graphviz(hierarchical_model)"
   ]
  },
  {
   "cell_type": "code",
   "execution_count": null,
   "metadata": {
    "colab": {
     "base_uri": "https://localhost:8080/",
     "height": 728
    },
    "id": "2iQkxcMJy0X9",
    "outputId": "9b6ead93-97d8-4c91-aa02-2e3558cad68a"
   },
   "outputs": [],
   "source": [
    "# マッピングするラベルのリスト\n",
    "labels = [\n",
    "    \"Energy Policy Expenditure\",\n",
    "    \"Small and Medium Enterprise Support Expenditure\",\n",
    "    \"Public Health and Sanitation Expenditure\",\n",
    "    \"Educational Promotion Grants\",\n",
    "    \"Social Welfare and Living Assistance Expenditure\",\n",
    "    \"Science and Technology Promotion Expenditure\",\n",
    "    \"Defense Expenditure\",\n",
    "    \"Employment and Workers' Compensation Expenditure\",\n",
    "    \"Food Security and Supply Expenditure\",\n",
    "]\n",
    "\n",
    "# traceからcoef_plan_projectの事後分布をプロット\n",
    "ax = az.plot_forest(\n",
    "    trace_h,\n",
    "    kind=\"forestplot\",\n",
    "    var_names=\"coef_plan_project\",\n",
    "    combined=True,\n",
    "    filter_vars=\"regex\",\n",
    "    figsize=(12, 7),\n",
    ")\n",
    "ax[0].axvline(0, color=\"black\", ls=\"--\")\n",
    "# y軸ラベルをカスタムラベルに設定（逆順に表示）\n",
    "ax[0].set_yticklabels(labels[::-1])  # ラベルを逆順に設定\n",
    "\n",
    "# プロットを表示\n",
    "plt.show()"
   ]
  },
  {
   "cell_type": "code",
   "execution_count": null,
   "metadata": {
    "colab": {
     "base_uri": "https://localhost:8080/",
     "height": 728
    },
    "id": "-f2_dYFPaH-c",
    "outputId": "3ef0bbbf-e56c-40fb-f7e3-f181e1844bd3"
   },
   "outputs": [],
   "source": [
    "# マッピングするラベルのリスト\n",
    "labels = [\n",
    "    \"Energy Policy Expenditure\",\n",
    "    \"Small and Medium Enterprise Support Expenditure\",\n",
    "    \"Public Health and Sanitation Expenditure\",\n",
    "    \"Educational Promotion Grants\",\n",
    "    \"Social Welfare and Living Assistance Expenditure\",\n",
    "    \"Science and Technology Promotion Expenditure\",\n",
    "    \"Defense Expenditure\",\n",
    "    \"Employment and Workers' Compensation Expenditure\",\n",
    "    \"Food Security and Supply Expenditure\",\n",
    "]\n",
    "\n",
    "# traceからcoef_plan_projectの事後分布をプロット\n",
    "ax = az.plot_forest(\n",
    "    trace_h,\n",
    "    kind=\"ridgeplot\",\n",
    "    var_names=\"coef_plan_project\",\n",
    "    combined=True,\n",
    "    ridgeplot_truncate=False,\n",
    "    ridgeplot_quantiles=[0.25, 0.5, 0.75],\n",
    "    ridgeplot_overlap=0.7,\n",
    "    colors=\"white\",\n",
    "    figsize=(12, 7),\n",
    ")\n",
    "ax[0].axvline(0, color=\"black\", ls=\"--\")\n",
    "# y軸ラベルをカスタムラベルに設定（逆順に表示）\n",
    "ax[0].set_yticklabels(labels[::-1])  # ラベルを逆順に設定\n",
    "\n",
    "# プロットを表示\n",
    "plt.show()"
   ]
  },
  {
   "cell_type": "code",
   "execution_count": null,
   "metadata": {
    "colab": {
     "base_uri": "https://localhost:8080/",
     "height": 1000
    },
    "id": "_lufHnOCzV8o",
    "outputId": "e0f7817a-68bc-4bea-b5d6-e8248d664236"
   },
   "outputs": [],
   "source": [
    "ax = az.plot_trace(trace_h, combined=True)"
   ]
  },
  {
   "cell_type": "code",
   "execution_count": null,
   "metadata": {
    "colab": {
     "base_uri": "https://localhost:8080/",
     "height": 228
    },
    "id": "nMTf5W8cbBTW",
    "outputId": "6ef6834b-7877-419c-d966-74c200783e16"
   },
   "outputs": [],
   "source": [
    "ax = az.plot_trace(trace_h, combined=True, var_names=[\"coef_plan_project\"])"
   ]
  },
  {
   "cell_type": "code",
   "execution_count": null,
   "metadata": {
    "colab": {
     "base_uri": "https://localhost:8080/",
     "height": 33,
     "referenced_widgets": [
      "3366b970f97b4e6e8bd8726f3beff16f",
      "2982d1427a434ae9bd9ac9848165c07b"
     ]
    },
    "id": "4h6_yIV_wIFL",
    "outputId": "8b5ca7cf-f1aa-4c97-edc6-ca51e83608f5"
   },
   "outputs": [],
   "source": [
    "with hierarchical_model:\n",
    "    pm.compute_log_likelihood(trace_h)"
   ]
  },
  {
   "cell_type": "code",
   "execution_count": null,
   "metadata": {
    "colab": {
     "base_uri": "https://localhost:8080/",
     "height": 408
    },
    "id": "6A-xMKGtw52O",
    "outputId": "fbe582cf-41f7-469c-fbe0-2179727b0b3b"
   },
   "outputs": [],
   "source": [
    "hierarchical_waic = az.waic(trace_h)\n",
    "hierarchical_waic"
   ]
  },
  {
   "cell_type": "markdown",
   "metadata": {},
   "source": [
    "# Comparison models"
   ]
  },
  {
   "cell_type": "code",
   "execution_count": null,
   "metadata": {
    "colab": {
     "base_uri": "https://localhost:8080/",
     "height": 617,
     "referenced_widgets": [
      "2018593b09a745e39c8573c713ebf706",
      "012584c5286d4d3d979261cdae109ff0"
     ]
    },
    "id": "zWLguI3KbL6h",
    "outputId": "57f00772-6f4d-405d-8a2b-e20d0928c087"
   },
   "outputs": [],
   "source": [
    "with pm.Model() as pooled_model:\n",
    "    # 共有される事前分布 (prior)\n",
    "    mu_intercept = pm.Normal(\"mu_intercept\", mu=0, sigma=5)  # 切片の平均\n",
    "    sigma_intercept = pm.HalfNormal(\"sigma_intercept\", sigma=5)  # 切片の標準偏差\n",
    "    intercept = pm.Normal(\n",
    "        \"intercept\",\n",
    "        mu=mu_intercept,\n",
    "        sigma=sigma_intercept,\n",
    "        shape=(data_encoded.shape[1],),\n",
    "        dims=\"main_expenses\",\n",
    "    )  # 各 `main_expenses` ごとの切片\n",
    "\n",
    "    # 観測誤差の標準偏差（sigma）\n",
    "    sigma = pm.HalfNormal(\"sigma\", sigma=logic1_std)  # 観測誤差の標準偏差\n",
    "\n",
    "    # `plan_project` の係数の階層ベイズ\n",
    "    coef_plan_project = pm.Normal(\n",
    "        \"coef_plan_project\", mu=0, sigma=5\n",
    "    )  # 各 `main_expenses` ごとの係数\n",
    "\n",
    "    # 各調整変数に対する回帰係数\n",
    "    coef_input_text_length = pm.Normal(\"coef_input_text_length\", mu=0, sigma=5)\n",
    "    # coef_len_project_summary = pm.Normal('coef_len_project_summary', mu=0, sigma=5)\n",
    "    # coef_len_output = pm.Normal('coef_len_output', mu=0, sigma=5)\n",
    "    # coef_len_outcomes = pm.Normal('coef_len_outcomes', mu=0, sigma=5)\n",
    "\n",
    "    # 線形回帰モデルの式 (階層ベイズ)\n",
    "    mu = 0\n",
    "    # 各 `main_expenses` ごとに異なる切片と影響を加える\n",
    "    for i, expense in enumerate(data_encoded.columns):\n",
    "        # `main_expenses` ごとの切片を加える\n",
    "        mu += intercept[i] * data[expense]\n",
    "\n",
    "    # `plan_project` の係数を加える\n",
    "    mu += coef_plan_project * data[\"plan_project\"]\n",
    "\n",
    "    # 調整変数を加味する\n",
    "    mu += coef_input_text_length * data[\"input_text_length\"]\n",
    "    # mu += coef_len_project_summary * data['len_project_summary']\n",
    "    # mu += coef_len_output * data['len_output']\n",
    "    # mu += coef_len_outcomes * data['len_outcomes']\n",
    "\n",
    "    # 観測モデル\n",
    "    observed = pm.Normal(\"observed\", mu=mu, sigma=sigma, observed=data[\"logic1_point\"])\n",
    "\n",
    "    # サンプリング\n",
    "    trace_p = pm.sample(500, tune=500, target_accept=0.9, cores=4)\n",
    "\n",
    "# 結果のサマリー表示\n",
    "pm.summary(trace_p)"
   ]
  },
  {
   "cell_type": "code",
   "execution_count": null,
   "metadata": {
    "colab": {
     "base_uri": "https://localhost:8080/",
     "height": 33,
     "referenced_widgets": [
      "77fc4187cba5418d9183e93639f82fee",
      "d616a8e34d1346669ccdbe321d347f00"
     ]
    },
    "id": "Nz_mUqDdzXbv",
    "outputId": "3e9b0597-a32f-4ddb-9484-185ebe3a6823"
   },
   "outputs": [],
   "source": [
    "with pooled_model:\n",
    "    pm.compute_log_likelihood(trace_p)"
   ]
  },
  {
   "cell_type": "code",
   "execution_count": null,
   "metadata": {
    "colab": {
     "base_uri": "https://localhost:8080/",
     "height": 585,
     "referenced_widgets": [
      "3fc4a846f1634011af62cb625a2db46e",
      "ef3da33c17a44226ba49c93e6e1445d2"
     ]
    },
    "id": "ZddG0Tn99oa0",
    "outputId": "7e1e76f8-9e20-4cd7-ec40-a657cb798e64"
   },
   "outputs": [],
   "source": [
    "with pm.Model() as naive_model:\n",
    "    # 共有される事前分布 (prior)\n",
    "    mu_intercept = pm.Normal(\"mu_intercept\", mu=0, sigma=5)  # 切片の平均\n",
    "    sigma_intercept = pm.HalfNormal(\"sigma_intercept\", sigma=5)  # 切片の標準偏差\n",
    "    intercept = pm.Normal(\n",
    "        \"intercept\",\n",
    "        mu=mu_intercept,\n",
    "        sigma=sigma_intercept,\n",
    "        shape=(data_encoded.shape[1],),\n",
    "        dims=\"main_expenses\",\n",
    "    )  # 各 `main_expenses` ごとの切片\n",
    "\n",
    "    # 観測誤差の標準偏差（sigma）\n",
    "    sigma = pm.HalfNormal(\"sigma\", sigma=logic1_std)  # 観測誤差の標準偏差\n",
    "\n",
    "    # `plan_project` の係数の階層ベイズ\n",
    "    coef_plan_project = pm.Normal(\n",
    "        \"coef_plan_project\", mu=0, sigma=5\n",
    "    )  # 各 `main_expenses` ごとの係数\n",
    "\n",
    "    # 線形回帰モデルの式 (階層ベイズ)\n",
    "    mu = 0\n",
    "    # 各 `main_expenses` ごとに異なる切片と影響を加える\n",
    "    for i, expense in enumerate(data_encoded.columns):\n",
    "        # `main_expenses` ごとの切片を加える\n",
    "        mu += intercept[i] * data[expense]\n",
    "\n",
    "    # `plan_project` の係数を加える\n",
    "    mu += coef_plan_project * data[\"plan_project\"]\n",
    "\n",
    "    # 観測モデル\n",
    "    observed = pm.Normal(\"observed\", mu=mu, sigma=sigma, observed=data[\"logic1_point\"])\n",
    "\n",
    "    # サンプリング\n",
    "    trace_n = pm.sample(500, tune=500, target_accept=0.9, cores=4)\n",
    "\n",
    "# 結果のサマリー表示\n",
    "pm.summary(trace_n)"
   ]
  },
  {
   "cell_type": "code",
   "execution_count": null,
   "metadata": {
    "colab": {
     "base_uri": "https://localhost:8080/",
     "height": 0,
     "referenced_widgets": [
      "5563732003ff44f7bd2b4d63df05fb54",
      "e8c1caa89aa34094a4ee6dbd25f78cbf"
     ]
    },
    "id": "cWui4NIo91Nj",
    "outputId": "7e626af5-18e8-4419-800e-eb9669addd91"
   },
   "outputs": [],
   "source": [
    "with naive_model:\n",
    "    pm.compute_log_likelihood(trace_n)"
   ]
  },
  {
   "cell_type": "code",
   "execution_count": null,
   "metadata": {
    "colab": {
     "base_uri": "https://localhost:8080/",
     "height": 408
    },
    "id": "G2ViLrZFzcta",
    "outputId": "a6585ff1-05b4-47f5-b29e-a879d3591669"
   },
   "outputs": [],
   "source": [
    "pooled_waic = az.waic(trace_p)\n",
    "pooled_waic"
   ]
  },
  {
   "cell_type": "code",
   "execution_count": null,
   "metadata": {
    "colab": {
     "base_uri": "https://localhost:8080/",
     "height": 143
    },
    "id": "dVyorEfxzh5D",
    "outputId": "c6c66b4c-1509-4bce-cefe-0f73d6ba67c0"
   },
   "outputs": [],
   "source": [
    "df_comp_loo = az.compare({\"Random Intercept and Slope Model\": trace_h, \"Random Intercept Model\": trace_p, \"Random Intercept Model without covariate\": trace_n})\n",
    "df_comp_loo"
   ]
  },
  {
   "cell_type": "code",
   "execution_count": null,
   "metadata": {
    "colab": {
     "base_uri": "https://localhost:8080/",
     "height": 496
    },
    "id": "yHaIydKgz8YR",
    "outputId": "c189dae1-4bc1-4019-889e-db6b92acd8ce"
   },
   "outputs": [],
   "source": [
    "fig, ax = plt.subplots(1,1,dpi = 300,figsize=(10,3))\n",
    "az.plot_compare(df_comp_loo, insample_dev=False, ax=ax)\n",
    "ax.set_title(\"\")\n",
    "plt.show()"
   ]
  },
  {
   "cell_type": "code",
   "execution_count": null,
   "metadata": {
    "colab": {
     "base_uri": "https://localhost:8080/",
     "height": 1000
    },
    "id": "zlQj3HNJQgML",
    "outputId": "d5f48ceb-45c6-43f1-a547-8f21edff72d5"
   },
   "outputs": [],
   "source": [
    "pm.plot_posterior(trace_h, var_names=[\"coef_plan_project\"])"
   ]
  },
  {
   "cell_type": "code",
   "execution_count": null,
   "metadata": {
    "colab": {
     "base_uri": "https://localhost:8080/",
     "height": 33,
     "referenced_widgets": [
      "c7cfca04a32348c0a0713b18e0604e1a",
      "f1ca26406cdc47c58b9745063b8ab718"
     ]
    },
    "id": "RSOTm7B51ggT",
    "outputId": "5c568a14-f076-4fd3-d5a8-1e0556691b3a"
   },
   "outputs": [],
   "source": [
    "with hierarchical_model:\n",
    "    pm.sample_posterior_predictive(trace_h, extend_inferencedata=True, random_seed=rng)"
   ]
  },
  {
   "cell_type": "code",
   "execution_count": null,
   "metadata": {
    "colab": {
     "base_uri": "https://localhost:8080/",
     "height": 526
    },
    "id": "0kEIm53A1xTP",
    "outputId": "ba20c5bf-07b7-433e-f9c9-479cf57db5ab"
   },
   "outputs": [],
   "source": [
    "az.plot_ppc(trace_h, num_pp_samples=100)"
   ]
  },
  {
   "cell_type": "markdown",
   "metadata": {},
   "source": [
    "# Check sample cases"
   ]
  },
  {
   "cell_type": "code",
   "execution_count": null,
   "metadata": {
    "colab": {
     "base_uri": "https://localhost:8080/",
     "height": 2089
    },
    "id": "l0N9k6AD1VdA",
    "outputId": "c31f02ff-6645-4018-8075-bdd9dff1ef76"
   },
   "outputs": [],
   "source": [
    "df.query(\n",
    "    \"main_expenses in ['エネルギー対策費'] and plan_project == 1 and logic1_point > 4\"\n",
    ").sort_values(\"budget_project_id\", ascending=True)[\n",
    "    [\n",
    "        \"budget_project_id\",\n",
    "        \"project_name\",\n",
    "        \"logic1_reason\",\n",
    "        \"logic1_point\",\n",
    "        \"output\",\n",
    "        \"outcomes\",\n",
    "    ]\n",
    "]"
   ]
  },
  {
   "cell_type": "code",
   "execution_count": null,
   "metadata": {
    "colab": {
     "base_uri": "https://localhost:8080/",
     "height": 644
    },
    "id": "cK_dh5LgBupv",
    "outputId": "8820e997-ebc6-44c6-cf79-ccff70dfecaa"
   },
   "outputs": [],
   "source": [
    "df.query(\n",
    "    \"main_expenses in ['食料安定供給関係費'] and plan_project == 1 and logic1_point > 4\"\n",
    ").sort_values(\"budget_project_id\", ascending=False)[\n",
    "    [\n",
    "        \"budget_project_id\",\n",
    "        \"project_name\",\n",
    "        \"logic1_reason\",\n",
    "        \"logic1_point\",\n",
    "        \"output\",\n",
    "        \"outcomes\",\n",
    "    ]\n",
    "]"
   ]
  },
  {
   "cell_type": "code",
   "execution_count": null,
   "metadata": {
    "colab": {
     "base_uri": "https://localhost:8080/",
     "height": 5146
    },
    "id": "HObZm7eZ9JiJ",
    "outputId": "38097a81-c31c-4b27-f3c5-1e9e8374e2cd"
   },
   "outputs": [],
   "source": [
    "df.query(\"plan_project == 1 and logic1_point > 4\").sort_values(\n",
    "    [\"main_expenses\", \"budget_project_id\"], ascending=True\n",
    ")[\n",
    "    [\n",
    "        \"main_expenses\",\n",
    "        \"budget_project_id\",\n",
    "        \"project_name\",\n",
    "        \"logic1_reason\",\n",
    "        \"logic1_point\",\n",
    "        \"output\",\n",
    "        \"outcomes\",\n",
    "    ]\n",
    "]"
   ]
  },
  {
   "cell_type": "code",
   "execution_count": null,
   "metadata": {
    "id": "on-Jphpy-RGx"
   },
   "outputs": [],
   "source": []
  }
 ],
 "metadata": {
  "colab": {
   "authorship_tag": "ABX9TyMgHvW4plBX49cSTthL2nWv",
   "include_colab_link": true,
   "provenance": []
  },
  "kernelspec": {
   "display_name": "Python 3 (ipykernel)",
   "language": "python",
   "name": "python3"
  },
  "language_info": {
   "codemirror_mode": {
    "name": "ipython",
    "version": 3
   },
   "file_extension": ".py",
   "mimetype": "text/x-python",
   "name": "python",
   "nbconvert_exporter": "python",
   "pygments_lexer": "ipython3",
   "version": "3.11.5"
  },
  "widgets": {
   "application/vnd.jupyter.widget-state+json": {
    "012584c5286d4d3d979261cdae109ff0": {
     "model_module": "@jupyter-widgets/base",
     "model_module_version": "1.2.0",
     "model_name": "LayoutModel",
     "state": {
      "_model_module": "@jupyter-widgets/base",
      "_model_module_version": "1.2.0",
      "_model_name": "LayoutModel",
      "_view_count": null,
      "_view_module": "@jupyter-widgets/base",
      "_view_module_version": "1.2.0",
      "_view_name": "LayoutView",
      "align_content": null,
      "align_items": null,
      "align_self": null,
      "border": null,
      "bottom": null,
      "display": null,
      "flex": null,
      "flex_flow": null,
      "grid_area": null,
      "grid_auto_columns": null,
      "grid_auto_flow": null,
      "grid_auto_rows": null,
      "grid_column": null,
      "grid_gap": null,
      "grid_row": null,
      "grid_template_areas": null,
      "grid_template_columns": null,
      "grid_template_rows": null,
      "height": null,
      "justify_content": null,
      "justify_items": null,
      "left": null,
      "margin": null,
      "max_height": null,
      "max_width": null,
      "min_height": null,
      "min_width": null,
      "object_fit": null,
      "object_position": null,
      "order": null,
      "overflow": null,
      "overflow_x": null,
      "overflow_y": null,
      "padding": null,
      "right": null,
      "top": null,
      "visibility": null,
      "width": null
     }
    },
    "2018593b09a745e39c8573c713ebf706": {
     "model_module": "@jupyter-widgets/output",
     "model_module_version": "1.0.0",
     "model_name": "OutputModel",
     "state": {
      "_dom_classes": [],
      "_model_module": "@jupyter-widgets/output",
      "_model_module_version": "1.0.0",
      "_model_name": "OutputModel",
      "_view_count": null,
      "_view_module": "@jupyter-widgets/output",
      "_view_module_version": "1.0.0",
      "_view_name": "OutputView",
      "layout": "IPY_MODEL_012584c5286d4d3d979261cdae109ff0",
      "msg_id": "",
      "outputs": [
       {
        "data": {
         "text/html": "<pre style=\"white-space:pre;overflow-x:auto;line-height:normal;font-family:Menlo,'DejaVu Sans Mono',consolas,'Courier New',monospace\">                                                                                                                   \n <span style=\"font-weight: bold\"> Progress                  </span> <span style=\"font-weight: bold\"> Draws </span> <span style=\"font-weight: bold\"> Divergences </span> <span style=\"font-weight: bold\"> Step size </span> <span style=\"font-weight: bold\"> Grad evals </span> <span style=\"font-weight: bold\"> Sampling Speed </span> <span style=\"font-weight: bold\"> Elapsed </span> <span style=\"font-weight: bold\"> Remaining </span> \n ───────────────────────────────────────────────────────────────────────────────────────────────────────────────── \n  <span style=\"color: #1f77b4; text-decoration-color: #1f77b4\">━━━━━━━━━━━━━━━━━━━━━━━━━</span>   1000    0             0.39        7            16.63 draws/s    0:01:00   0:00:00    \n  <span style=\"color: #1f77b4; text-decoration-color: #1f77b4\">━━━━━━━━━━━━━━━━━━━━━━━━━</span>   1000    0             0.41        15           15.67 draws/s    0:01:03   0:00:00    \n  <span style=\"color: #1f77b4; text-decoration-color: #1f77b4\">━━━━━━━━━━━━━━━━━━━━━━━━━</span>   1000    0             0.36        15           16.27 draws/s    0:01:01   0:00:00    \n  <span style=\"color: #1f77b4; text-decoration-color: #1f77b4\">━━━━━━━━━━━━━━━━━━━━━━━━━</span>   1000    0             0.43        15           15.32 draws/s    0:01:05   0:00:00    \n                                                                                                                   \n</pre>\n",
         "text/plain": "                                                                                                                   \n \u001b[1m \u001b[0m\u001b[1mProgress                 \u001b[0m\u001b[1m \u001b[0m \u001b[1m \u001b[0m\u001b[1mDraws\u001b[0m\u001b[1m \u001b[0m \u001b[1m \u001b[0m\u001b[1mDivergences\u001b[0m\u001b[1m \u001b[0m \u001b[1m \u001b[0m\u001b[1mStep size\u001b[0m\u001b[1m \u001b[0m \u001b[1m \u001b[0m\u001b[1mGrad evals\u001b[0m\u001b[1m \u001b[0m \u001b[1m \u001b[0m\u001b[1mSampling Speed\u001b[0m\u001b[1m \u001b[0m \u001b[1m \u001b[0m\u001b[1mElapsed\u001b[0m\u001b[1m \u001b[0m \u001b[1m \u001b[0m\u001b[1mRemaining\u001b[0m\u001b[1m \u001b[0m \n ───────────────────────────────────────────────────────────────────────────────────────────────────────────────── \n  \u001b[38;2;31;119;180m━━━━━━━━━━━━━━━━━━━━━━━━━\u001b[0m   1000    0             0.39        7            16.63 draws/s    0:01:00   0:00:00    \n  \u001b[38;2;31;119;180m━━━━━━━━━━━━━━━━━━━━━━━━━\u001b[0m   1000    0             0.41        15           15.67 draws/s    0:01:03   0:00:00    \n  \u001b[38;2;31;119;180m━━━━━━━━━━━━━━━━━━━━━━━━━\u001b[0m   1000    0             0.36        15           16.27 draws/s    0:01:01   0:00:00    \n  \u001b[38;2;31;119;180m━━━━━━━━━━━━━━━━━━━━━━━━━\u001b[0m   1000    0             0.43        15           15.32 draws/s    0:01:05   0:00:00    \n                                                                                                                   \n"
        },
        "metadata": {},
        "output_type": "display_data"
       }
      ]
     }
    },
    "2982d1427a434ae9bd9ac9848165c07b": {
     "model_module": "@jupyter-widgets/base",
     "model_module_version": "1.2.0",
     "model_name": "LayoutModel",
     "state": {
      "_model_module": "@jupyter-widgets/base",
      "_model_module_version": "1.2.0",
      "_model_name": "LayoutModel",
      "_view_count": null,
      "_view_module": "@jupyter-widgets/base",
      "_view_module_version": "1.2.0",
      "_view_name": "LayoutView",
      "align_content": null,
      "align_items": null,
      "align_self": null,
      "border": null,
      "bottom": null,
      "display": null,
      "flex": null,
      "flex_flow": null,
      "grid_area": null,
      "grid_auto_columns": null,
      "grid_auto_flow": null,
      "grid_auto_rows": null,
      "grid_column": null,
      "grid_gap": null,
      "grid_row": null,
      "grid_template_areas": null,
      "grid_template_columns": null,
      "grid_template_rows": null,
      "height": null,
      "justify_content": null,
      "justify_items": null,
      "left": null,
      "margin": null,
      "max_height": null,
      "max_width": null,
      "min_height": null,
      "min_width": null,
      "object_fit": null,
      "object_position": null,
      "order": null,
      "overflow": null,
      "overflow_x": null,
      "overflow_y": null,
      "padding": null,
      "right": null,
      "top": null,
      "visibility": null,
      "width": null
     }
    },
    "3366b970f97b4e6e8bd8726f3beff16f": {
     "model_module": "@jupyter-widgets/output",
     "model_module_version": "1.0.0",
     "model_name": "OutputModel",
     "state": {
      "_dom_classes": [],
      "_model_module": "@jupyter-widgets/output",
      "_model_module_version": "1.0.0",
      "_model_name": "OutputModel",
      "_view_count": null,
      "_view_module": "@jupyter-widgets/output",
      "_view_module_version": "1.0.0",
      "_view_name": "OutputView",
      "layout": "IPY_MODEL_2982d1427a434ae9bd9ac9848165c07b",
      "msg_id": "",
      "outputs": [
       {
        "data": {
         "text/html": "<pre style=\"white-space:pre;overflow-x:auto;line-height:normal;font-family:Menlo,'DejaVu Sans Mono',consolas,'Courier New',monospace\">Computing ... <span style=\"color: #008000; text-decoration-color: #008000\">━━━━━━━━━━━━━━━━━━━━━━━━━━━━━━━━━━━━━━━━</span> <span style=\"color: #800080; text-decoration-color: #800080\">100%</span> 0:00:00\n</pre>\n",
         "text/plain": "Computing ... \u001b[32m━━━━━━━━━━━━━━━━━━━━━━━━━━━━━━━━━━━━━━━━\u001b[0m \u001b[35m100%\u001b[0m 0:00:00\n"
        },
        "metadata": {},
        "output_type": "display_data"
       }
      ]
     }
    },
    "3fc4a846f1634011af62cb625a2db46e": {
     "model_module": "@jupyter-widgets/output",
     "model_module_version": "1.0.0",
     "model_name": "OutputModel",
     "state": {
      "_dom_classes": [],
      "_model_module": "@jupyter-widgets/output",
      "_model_module_version": "1.0.0",
      "_model_name": "OutputModel",
      "_view_count": null,
      "_view_module": "@jupyter-widgets/output",
      "_view_module_version": "1.0.0",
      "_view_name": "OutputView",
      "layout": "IPY_MODEL_ef3da33c17a44226ba49c93e6e1445d2",
      "msg_id": "",
      "outputs": [
       {
        "data": {
         "text/html": "<pre style=\"white-space:pre;overflow-x:auto;line-height:normal;font-family:Menlo,'DejaVu Sans Mono',consolas,'Courier New',monospace\">                                                                                                                   \n <span style=\"font-weight: bold\"> Progress                  </span> <span style=\"font-weight: bold\"> Draws </span> <span style=\"font-weight: bold\"> Divergences </span> <span style=\"font-weight: bold\"> Step size </span> <span style=\"font-weight: bold\"> Grad evals </span> <span style=\"font-weight: bold\"> Sampling Speed </span> <span style=\"font-weight: bold\"> Elapsed </span> <span style=\"font-weight: bold\"> Remaining </span> \n ───────────────────────────────────────────────────────────────────────────────────────────────────────────────── \n  <span style=\"color: #1f77b4; text-decoration-color: #1f77b4\">━━━━━━━━━━━━━━━━━━━━━━━━━</span>   1000    0             0.52        7            53.55 draws/s    0:00:18   0:00:00    \n  <span style=\"color: #1f77b4; text-decoration-color: #1f77b4\">━━━━━━━━━━━━━━━━━━━━━━━━━</span>   1000    0             0.66        7            52.87 draws/s    0:00:18   0:00:00    \n  <span style=\"color: #1f77b4; text-decoration-color: #1f77b4\">━━━━━━━━━━━━━━━━━━━━━━━━━</span>   1000    0             0.57        7            52.74 draws/s    0:00:18   0:00:00    \n  <span style=\"color: #1f77b4; text-decoration-color: #1f77b4\">━━━━━━━━━━━━━━━━━━━━━━━━━</span>   1000    0             0.38        7            54.24 draws/s    0:00:18   0:00:00    \n                                                                                                                   \n</pre>\n",
         "text/plain": "                                                                                                                   \n \u001b[1m \u001b[0m\u001b[1mProgress                 \u001b[0m\u001b[1m \u001b[0m \u001b[1m \u001b[0m\u001b[1mDraws\u001b[0m\u001b[1m \u001b[0m \u001b[1m \u001b[0m\u001b[1mDivergences\u001b[0m\u001b[1m \u001b[0m \u001b[1m \u001b[0m\u001b[1mStep size\u001b[0m\u001b[1m \u001b[0m \u001b[1m \u001b[0m\u001b[1mGrad evals\u001b[0m\u001b[1m \u001b[0m \u001b[1m \u001b[0m\u001b[1mSampling Speed\u001b[0m\u001b[1m \u001b[0m \u001b[1m \u001b[0m\u001b[1mElapsed\u001b[0m\u001b[1m \u001b[0m \u001b[1m \u001b[0m\u001b[1mRemaining\u001b[0m\u001b[1m \u001b[0m \n ───────────────────────────────────────────────────────────────────────────────────────────────────────────────── \n  \u001b[38;2;31;119;180m━━━━━━━━━━━━━━━━━━━━━━━━━\u001b[0m   1000    0             0.52        7            53.55 draws/s    0:00:18   0:00:00    \n  \u001b[38;2;31;119;180m━━━━━━━━━━━━━━━━━━━━━━━━━\u001b[0m   1000    0             0.66        7            52.87 draws/s    0:00:18   0:00:00    \n  \u001b[38;2;31;119;180m━━━━━━━━━━━━━━━━━━━━━━━━━\u001b[0m   1000    0             0.57        7            52.74 draws/s    0:00:18   0:00:00    \n  \u001b[38;2;31;119;180m━━━━━━━━━━━━━━━━━━━━━━━━━\u001b[0m   1000    0             0.38        7            54.24 draws/s    0:00:18   0:00:00    \n                                                                                                                   \n"
        },
        "metadata": {},
        "output_type": "display_data"
       }
      ]
     }
    },
    "5563732003ff44f7bd2b4d63df05fb54": {
     "model_module": "@jupyter-widgets/output",
     "model_module_version": "1.0.0",
     "model_name": "OutputModel",
     "state": {
      "_dom_classes": [],
      "_model_module": "@jupyter-widgets/output",
      "_model_module_version": "1.0.0",
      "_model_name": "OutputModel",
      "_view_count": null,
      "_view_module": "@jupyter-widgets/output",
      "_view_module_version": "1.0.0",
      "_view_name": "OutputView",
      "layout": "IPY_MODEL_e8c1caa89aa34094a4ee6dbd25f78cbf",
      "msg_id": "",
      "outputs": [
       {
        "data": {
         "text/html": "<pre style=\"white-space:pre;overflow-x:auto;line-height:normal;font-family:Menlo,'DejaVu Sans Mono',consolas,'Courier New',monospace\">Computing ... <span style=\"color: #008000; text-decoration-color: #008000\">━━━━━━━━━━━━━━━━━━━━━━━━━━━━━━━━━━━━━━━━</span> <span style=\"color: #800080; text-decoration-color: #800080\">100%</span> 0:00:00\n</pre>\n",
         "text/plain": "Computing ... \u001b[32m━━━━━━━━━━━━━━━━━━━━━━━━━━━━━━━━━━━━━━━━\u001b[0m \u001b[35m100%\u001b[0m 0:00:00\n"
        },
        "metadata": {},
        "output_type": "display_data"
       }
      ]
     }
    },
    "77fc4187cba5418d9183e93639f82fee": {
     "model_module": "@jupyter-widgets/output",
     "model_module_version": "1.0.0",
     "model_name": "OutputModel",
     "state": {
      "_dom_classes": [],
      "_model_module": "@jupyter-widgets/output",
      "_model_module_version": "1.0.0",
      "_model_name": "OutputModel",
      "_view_count": null,
      "_view_module": "@jupyter-widgets/output",
      "_view_module_version": "1.0.0",
      "_view_name": "OutputView",
      "layout": "IPY_MODEL_d616a8e34d1346669ccdbe321d347f00",
      "msg_id": "",
      "outputs": [
       {
        "data": {
         "text/html": "<pre style=\"white-space:pre;overflow-x:auto;line-height:normal;font-family:Menlo,'DejaVu Sans Mono',consolas,'Courier New',monospace\">Computing ... <span style=\"color: #008000; text-decoration-color: #008000\">━━━━━━━━━━━━━━━━━━━━━━━━━━━━━━━━━━━━━━━━</span> <span style=\"color: #800080; text-decoration-color: #800080\">100%</span> 0:00:00\n</pre>\n",
         "text/plain": "Computing ... \u001b[32m━━━━━━━━━━━━━━━━━━━━━━━━━━━━━━━━━━━━━━━━\u001b[0m \u001b[35m100%\u001b[0m 0:00:00\n"
        },
        "metadata": {},
        "output_type": "display_data"
       }
      ]
     }
    },
    "8313f1a320804bf9a6e70121da5f1a37": {
     "model_module": "@jupyter-widgets/output",
     "model_module_version": "1.0.0",
     "model_name": "OutputModel",
     "state": {
      "_dom_classes": [],
      "_model_module": "@jupyter-widgets/output",
      "_model_module_version": "1.0.0",
      "_model_name": "OutputModel",
      "_view_count": null,
      "_view_module": "@jupyter-widgets/output",
      "_view_module_version": "1.0.0",
      "_view_name": "OutputView",
      "layout": "IPY_MODEL_bcd617f939914f079fd3ca7e80d2a2cb",
      "msg_id": "",
      "outputs": [
       {
        "data": {
         "text/html": "<pre style=\"white-space:pre;overflow-x:auto;line-height:normal;font-family:Menlo,'DejaVu Sans Mono',consolas,'Courier New',monospace\">                                                                                                                   \n <span style=\"font-weight: bold\"> Progress                  </span> <span style=\"font-weight: bold\"> Draws </span> <span style=\"font-weight: bold\"> Divergences </span> <span style=\"font-weight: bold\"> Step size </span> <span style=\"font-weight: bold\"> Grad evals </span> <span style=\"font-weight: bold\"> Sampling Speed </span> <span style=\"font-weight: bold\"> Elapsed </span> <span style=\"font-weight: bold\"> Remaining </span> \n ───────────────────────────────────────────────────────────────────────────────────────────────────────────────── \n  <span style=\"color: #1f77b4; text-decoration-color: #1f77b4\">━━━━━━━━━━━━━━━━━━━━━━━━━</span>   1000    0             0.36        15           6.47 draws/s     0:02:34   0:00:00    \n  <span style=\"color: #1f77b4; text-decoration-color: #1f77b4\">━━━━━━━━━━━━━━━━━━━━━━━━━</span>   1000    0             0.43        15           6.64 draws/s     0:02:30   0:00:00    \n  <span style=\"color: #1f77b4; text-decoration-color: #1f77b4\">━━━━━━━━━━━━━━━━━━━━━━━━━</span>   1000    0             0.32        15           7.21 draws/s     0:02:18   0:00:00    \n  <span style=\"color: #1f77b4; text-decoration-color: #1f77b4\">━━━━━━━━━━━━━━━━━━━━━━━━━</span>   1000    0             0.34        15           6.75 draws/s     0:02:27   0:00:00    \n                                                                                                                   \n</pre>\n",
         "text/plain": "                                                                                                                   \n \u001b[1m \u001b[0m\u001b[1mProgress                 \u001b[0m\u001b[1m \u001b[0m \u001b[1m \u001b[0m\u001b[1mDraws\u001b[0m\u001b[1m \u001b[0m \u001b[1m \u001b[0m\u001b[1mDivergences\u001b[0m\u001b[1m \u001b[0m \u001b[1m \u001b[0m\u001b[1mStep size\u001b[0m\u001b[1m \u001b[0m \u001b[1m \u001b[0m\u001b[1mGrad evals\u001b[0m\u001b[1m \u001b[0m \u001b[1m \u001b[0m\u001b[1mSampling Speed\u001b[0m\u001b[1m \u001b[0m \u001b[1m \u001b[0m\u001b[1mElapsed\u001b[0m\u001b[1m \u001b[0m \u001b[1m \u001b[0m\u001b[1mRemaining\u001b[0m\u001b[1m \u001b[0m \n ───────────────────────────────────────────────────────────────────────────────────────────────────────────────── \n  \u001b[38;2;31;119;180m━━━━━━━━━━━━━━━━━━━━━━━━━\u001b[0m   1000    0             0.36        15           6.47 draws/s     0:02:34   0:00:00    \n  \u001b[38;2;31;119;180m━━━━━━━━━━━━━━━━━━━━━━━━━\u001b[0m   1000    0             0.43        15           6.64 draws/s     0:02:30   0:00:00    \n  \u001b[38;2;31;119;180m━━━━━━━━━━━━━━━━━━━━━━━━━\u001b[0m   1000    0             0.32        15           7.21 draws/s     0:02:18   0:00:00    \n  \u001b[38;2;31;119;180m━━━━━━━━━━━━━━━━━━━━━━━━━\u001b[0m   1000    0             0.34        15           6.75 draws/s     0:02:27   0:00:00    \n                                                                                                                   \n"
        },
        "metadata": {},
        "output_type": "display_data"
       }
      ]
     }
    },
    "bcd617f939914f079fd3ca7e80d2a2cb": {
     "model_module": "@jupyter-widgets/base",
     "model_module_version": "1.2.0",
     "model_name": "LayoutModel",
     "state": {
      "_model_module": "@jupyter-widgets/base",
      "_model_module_version": "1.2.0",
      "_model_name": "LayoutModel",
      "_view_count": null,
      "_view_module": "@jupyter-widgets/base",
      "_view_module_version": "1.2.0",
      "_view_name": "LayoutView",
      "align_content": null,
      "align_items": null,
      "align_self": null,
      "border": null,
      "bottom": null,
      "display": null,
      "flex": null,
      "flex_flow": null,
      "grid_area": null,
      "grid_auto_columns": null,
      "grid_auto_flow": null,
      "grid_auto_rows": null,
      "grid_column": null,
      "grid_gap": null,
      "grid_row": null,
      "grid_template_areas": null,
      "grid_template_columns": null,
      "grid_template_rows": null,
      "height": null,
      "justify_content": null,
      "justify_items": null,
      "left": null,
      "margin": null,
      "max_height": null,
      "max_width": null,
      "min_height": null,
      "min_width": null,
      "object_fit": null,
      "object_position": null,
      "order": null,
      "overflow": null,
      "overflow_x": null,
      "overflow_y": null,
      "padding": null,
      "right": null,
      "top": null,
      "visibility": null,
      "width": null
     }
    },
    "c7cfca04a32348c0a0713b18e0604e1a": {
     "model_module": "@jupyter-widgets/output",
     "model_module_version": "1.0.0",
     "model_name": "OutputModel",
     "state": {
      "_dom_classes": [],
      "_model_module": "@jupyter-widgets/output",
      "_model_module_version": "1.0.0",
      "_model_name": "OutputModel",
      "_view_count": null,
      "_view_module": "@jupyter-widgets/output",
      "_view_module_version": "1.0.0",
      "_view_name": "OutputView",
      "layout": "IPY_MODEL_f1ca26406cdc47c58b9745063b8ab718",
      "msg_id": "",
      "outputs": [
       {
        "data": {
         "text/html": "<pre style=\"white-space:pre;overflow-x:auto;line-height:normal;font-family:Menlo,'DejaVu Sans Mono',consolas,'Courier New',monospace\">Sampling ... <span style=\"color: #008000; text-decoration-color: #008000\">━━━━━━━━━━━━━━━━━━━━━━━━━━━━━━━━━━━━━━━━</span> <span style=\"color: #800080; text-decoration-color: #800080\">100%</span> 0:00:00 / 0:00:00\n</pre>\n",
         "text/plain": "Sampling ... \u001b[32m━━━━━━━━━━━━━━━━━━━━━━━━━━━━━━━━━━━━━━━━\u001b[0m \u001b[35m100%\u001b[0m 0:00:00 / 0:00:00\n"
        },
        "metadata": {},
        "output_type": "display_data"
       }
      ]
     }
    },
    "d616a8e34d1346669ccdbe321d347f00": {
     "model_module": "@jupyter-widgets/base",
     "model_module_version": "1.2.0",
     "model_name": "LayoutModel",
     "state": {
      "_model_module": "@jupyter-widgets/base",
      "_model_module_version": "1.2.0",
      "_model_name": "LayoutModel",
      "_view_count": null,
      "_view_module": "@jupyter-widgets/base",
      "_view_module_version": "1.2.0",
      "_view_name": "LayoutView",
      "align_content": null,
      "align_items": null,
      "align_self": null,
      "border": null,
      "bottom": null,
      "display": null,
      "flex": null,
      "flex_flow": null,
      "grid_area": null,
      "grid_auto_columns": null,
      "grid_auto_flow": null,
      "grid_auto_rows": null,
      "grid_column": null,
      "grid_gap": null,
      "grid_row": null,
      "grid_template_areas": null,
      "grid_template_columns": null,
      "grid_template_rows": null,
      "height": null,
      "justify_content": null,
      "justify_items": null,
      "left": null,
      "margin": null,
      "max_height": null,
      "max_width": null,
      "min_height": null,
      "min_width": null,
      "object_fit": null,
      "object_position": null,
      "order": null,
      "overflow": null,
      "overflow_x": null,
      "overflow_y": null,
      "padding": null,
      "right": null,
      "top": null,
      "visibility": null,
      "width": null
     }
    },
    "e8c1caa89aa34094a4ee6dbd25f78cbf": {
     "model_module": "@jupyter-widgets/base",
     "model_module_version": "1.2.0",
     "model_name": "LayoutModel",
     "state": {
      "_model_module": "@jupyter-widgets/base",
      "_model_module_version": "1.2.0",
      "_model_name": "LayoutModel",
      "_view_count": null,
      "_view_module": "@jupyter-widgets/base",
      "_view_module_version": "1.2.0",
      "_view_name": "LayoutView",
      "align_content": null,
      "align_items": null,
      "align_self": null,
      "border": null,
      "bottom": null,
      "display": null,
      "flex": null,
      "flex_flow": null,
      "grid_area": null,
      "grid_auto_columns": null,
      "grid_auto_flow": null,
      "grid_auto_rows": null,
      "grid_column": null,
      "grid_gap": null,
      "grid_row": null,
      "grid_template_areas": null,
      "grid_template_columns": null,
      "grid_template_rows": null,
      "height": null,
      "justify_content": null,
      "justify_items": null,
      "left": null,
      "margin": null,
      "max_height": null,
      "max_width": null,
      "min_height": null,
      "min_width": null,
      "object_fit": null,
      "object_position": null,
      "order": null,
      "overflow": null,
      "overflow_x": null,
      "overflow_y": null,
      "padding": null,
      "right": null,
      "top": null,
      "visibility": null,
      "width": null
     }
    },
    "ef3da33c17a44226ba49c93e6e1445d2": {
     "model_module": "@jupyter-widgets/base",
     "model_module_version": "1.2.0",
     "model_name": "LayoutModel",
     "state": {
      "_model_module": "@jupyter-widgets/base",
      "_model_module_version": "1.2.0",
      "_model_name": "LayoutModel",
      "_view_count": null,
      "_view_module": "@jupyter-widgets/base",
      "_view_module_version": "1.2.0",
      "_view_name": "LayoutView",
      "align_content": null,
      "align_items": null,
      "align_self": null,
      "border": null,
      "bottom": null,
      "display": null,
      "flex": null,
      "flex_flow": null,
      "grid_area": null,
      "grid_auto_columns": null,
      "grid_auto_flow": null,
      "grid_auto_rows": null,
      "grid_column": null,
      "grid_gap": null,
      "grid_row": null,
      "grid_template_areas": null,
      "grid_template_columns": null,
      "grid_template_rows": null,
      "height": null,
      "justify_content": null,
      "justify_items": null,
      "left": null,
      "margin": null,
      "max_height": null,
      "max_width": null,
      "min_height": null,
      "min_width": null,
      "object_fit": null,
      "object_position": null,
      "order": null,
      "overflow": null,
      "overflow_x": null,
      "overflow_y": null,
      "padding": null,
      "right": null,
      "top": null,
      "visibility": null,
      "width": null
     }
    },
    "f1ca26406cdc47c58b9745063b8ab718": {
     "model_module": "@jupyter-widgets/base",
     "model_module_version": "1.2.0",
     "model_name": "LayoutModel",
     "state": {
      "_model_module": "@jupyter-widgets/base",
      "_model_module_version": "1.2.0",
      "_model_name": "LayoutModel",
      "_view_count": null,
      "_view_module": "@jupyter-widgets/base",
      "_view_module_version": "1.2.0",
      "_view_name": "LayoutView",
      "align_content": null,
      "align_items": null,
      "align_self": null,
      "border": null,
      "bottom": null,
      "display": null,
      "flex": null,
      "flex_flow": null,
      "grid_area": null,
      "grid_auto_columns": null,
      "grid_auto_flow": null,
      "grid_auto_rows": null,
      "grid_column": null,
      "grid_gap": null,
      "grid_row": null,
      "grid_template_areas": null,
      "grid_template_columns": null,
      "grid_template_rows": null,
      "height": null,
      "justify_content": null,
      "justify_items": null,
      "left": null,
      "margin": null,
      "max_height": null,
      "max_width": null,
      "min_height": null,
      "min_width": null,
      "object_fit": null,
      "object_position": null,
      "order": null,
      "overflow": null,
      "overflow_x": null,
      "overflow_y": null,
      "padding": null,
      "right": null,
      "top": null,
      "visibility": null,
      "width": null
     }
    }
   }
  }
 },
 "nbformat": 4,
 "nbformat_minor": 1
}
