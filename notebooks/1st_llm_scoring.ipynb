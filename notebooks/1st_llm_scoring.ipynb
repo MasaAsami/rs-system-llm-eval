{
 "cells": [
  {
   "cell_type": "markdown",
   "metadata": {
    "colab_type": "text",
    "id": "view-in-github"
   },
   "source": [
    "# 1st stage: LLM-as-a-Judge\n",
    "## Data Pre-processing"
   ]
  },
  {
   "cell_type": "code",
   "execution_count": null,
   "metadata": {
    "colab": {
     "base_uri": "https://localhost:8080/"
    },
    "id": "cbCsGBt1pTNK",
    "outputId": "e0f4430a-4121-4f38-849d-e26fcc44fdb2"
   },
   "outputs": [],
   "source": [
    "import os\n",
    "import time\n",
    "import pandas as pd\n",
    "import numpy as np\n",
    "import scipy.stats as stats\n",
    "from datetime import datetime\n",
    "from openai import OpenAI"
   ]
  },
  {
   "cell_type": "code",
   "execution_count": null,
   "metadata": {
    "id": "tmaXKcEFpWK2"
   },
   "outputs": [],
   "source": [
    "BASE_PATH = \"../data/\""
   ]
  },
  {
   "cell_type": "code",
   "execution_count": null,
   "metadata": {
    "colab": {
     "base_uri": "https://localhost:8080/"
    },
    "id": "Glw1nr-1pYMX",
    "outputId": "52838e64-5392-47fc-898e-2103892fc6e1"
   },
   "outputs": [],
   "source": [
    "description_df = pd.read_csv(BASE_PATH + \"raw/1-2_RS_2024_基本情報_事業概要等.zip\")\n",
    "kpi_df = pd.read_csv(BASE_PATH + \"raw/3-1_RS_2024_効果発現経路_目標・実績.zip\")\n",
    "check_df = pd.read_csv(BASE_PATH + \"raw/4-1_RS_2024_点検・評価.zip\")"
   ]
  },
  {
   "cell_type": "code",
   "execution_count": null,
   "metadata": {
    "id": "2LLYZdYJpzdF"
   },
   "outputs": [],
   "source": [
    "kpi_df = kpi_df.rename(\n",
    "    columns={\n",
    "        \"種別（アクティビティ・アウトプット・アウトカム）\": \"kpi_type\",\n",
    "        \"アクティビティ／活動目標／成果目標\": \"kpi_description\",\n",
    "        \"アウトカムの期間\": \"outcome_term\",\n",
    "        \"活動指標／成果指標\": \"kpi\",\n",
    "    }\n",
    ")\n",
    "\n",
    "kpi_df = kpi_df.drop_duplicates(\n",
    "    subset=[\"予算事業ID\", \"kpi_type\", \"kpi_description\", \"outcome_term\", \"kpi\"]\n",
    ")"
   ]
  },
  {
   "cell_type": "code",
   "execution_count": null,
   "metadata": {
    "colab": {
     "base_uri": "https://localhost:8080/",
     "height": 206
    },
    "id": "TOkUxoUYqcVb",
    "outputId": "be4f62fb-3e93-4d50-f6df-b5fa47aaedd8"
   },
   "outputs": [],
   "source": [
    "kpi_df.query(\"予算事業ID == 6080\")[[\"kpi_type\", \"kpi_description\", \"outcome_term\", \"kpi\"]]"
   ]
  },
  {
   "cell_type": "code",
   "execution_count": null,
   "metadata": {
    "colab": {
     "base_uri": "https://localhost:8080/"
    },
    "id": "RK5Gy3Reqe3i",
    "outputId": "bfe63f46-5253-42c3-f7fb-ce8dff31b6f6"
   },
   "outputs": [],
   "source": [
    "print(kpi_df[\"kpi_type\"].unique())\n",
    "print(kpi_df[\"outcome_term\"].unique())\n",
    "kpi_df[\"outcome_term\"] = kpi_df[\"outcome_term\"].fillna(\"3.長期\")"
   ]
  },
  {
   "cell_type": "code",
   "execution_count": null,
   "metadata": {
    "id": "OznKJALbEEYG"
   },
   "outputs": [],
   "source": [
    "output = (\n",
    "    kpi_df.query(\"kpi_type== 'アウトプット'\")\n",
    "    .groupby([\"予算事業ID\"])[\"kpi_description\"]\n",
    "    .apply(lambda x: \"/\".join(sorted(list(x))))\n",
    ")\n",
    "short_outcome = (\n",
    "    kpi_df.query(\"kpi_type== 'アウトカム' and outcome_term == '1.短期'\")\n",
    "    .groupby([\"予算事業ID\"])[\"kpi\"]\n",
    "    .apply(lambda x: \"/\".join(sorted(list(x))))\n",
    ")  # kpi\n",
    "mid_outcome = (\n",
    "    kpi_df.query(\"kpi_type== 'アウトカム' and outcome_term == '2.中期'\")\n",
    "    .groupby([\"予算事業ID\"])[\"kpi\"]\n",
    "    .apply(lambda x: \"/\".join(sorted(list(x))))\n",
    ")  # kpi\n",
    "long_outcome = (\n",
    "    kpi_df.query(\"kpi_type== 'アウトカム' and outcome_term == '3.長期'\")\n",
    "    .groupby([\"予算事業ID\"])[\"kpi\"]\n",
    "    .apply(lambda x: \"/\".join(sorted(list(x))))\n",
    ")  # kpi"
   ]
  },
  {
   "cell_type": "code",
   "execution_count": null,
   "metadata": {
    "id": "_UVenh81qiEx"
   },
   "outputs": [],
   "source": [
    "fixed_kpi_df = pd.concat([output, short_outcome, mid_outcome, long_outcome], axis=1)\n",
    "fixed_kpi_df.columns = [\"output\", \"short_outcome\", \"mid_outcome\", \"long_outcome\"]\n",
    "fixed_kpi_df[\"outcomes\"] = fixed_kpi_df.apply(\n",
    "    lambda x: \"[short_outcome]\"\n",
    "    + str(x[\"short_outcome\"])\n",
    "    + \"[mid_outcome]\"\n",
    "    + str(x[\"mid_outcome\"])\n",
    "    + \"[long_outcome]\"\n",
    "    + str(x[\"long_outcome\"]),\n",
    "    axis=1,\n",
    ")\n",
    "fixed_kpi_df = fixed_kpi_df.reset_index()"
   ]
  },
  {
   "cell_type": "code",
   "execution_count": null,
   "metadata": {
    "colab": {
     "base_uri": "https://localhost:8080/"
    },
    "id": "M2Tz2n0gqmER",
    "outputId": "a52b5bd8-9609-400c-b79a-fed0df37a391"
   },
   "outputs": [],
   "source": [
    "dtm = description_df[\n",
    "    [\n",
    "        \"事業年度\",\n",
    "        \"予算事業ID\",\n",
    "        \"事業名\",\n",
    "        \"政策所管府省庁\",\n",
    "        \"事業の目的\",\n",
    "        \"現状・課題\",\n",
    "        \"事業の概要\",\n",
    "        \"事業開始年度\",\n",
    "        \"事業終了（予定）年度\",\n",
    "        \"主要経費\",\n",
    "    ]\n",
    "].merge(fixed_kpi_df, on=[\"予算事業ID\"])\n",
    "print(\"レコード数: \", len(dtm))"
   ]
  },
  {
   "cell_type": "code",
   "execution_count": null,
   "metadata": {
    "id": "X1ntVVPRDh7f"
   },
   "outputs": [],
   "source": [
    "dtm.columns = [\n",
    "    \"fiscal_year\",\n",
    "    \"budget_project_id\",\n",
    "    \"project_name\",\n",
    "    \"ministry\",\n",
    "    \"project_purpose\",\n",
    "    \"current_situation_and_issues\",\n",
    "    \"project_summary\",\n",
    "    \"project_start_year\",\n",
    "    \"project_end_year_estimated\",\n",
    "    \"main_expenses\",\n",
    "    \"output\",\n",
    "    \"short_outcome\",\n",
    "    \"mid_outcome\",\n",
    "    \"long_outcome\",\n",
    "    \"outcomes\",\n",
    "]"
   ]
  },
  {
   "cell_type": "code",
   "execution_count": null,
   "metadata": {
    "colab": {
     "base_uri": "https://localhost:8080/",
     "height": 836
    },
    "id": "kbLLOrhAFEL-",
    "outputId": "e8d453ae-1ccb-4cc9-b078-6da8495c4d33"
   },
   "outputs": [],
   "source": [
    "dtm.groupby(\"ministry\")[\"budget_project_id\"].count().sort_values(ascending=False)"
   ]
  },
  {
   "cell_type": "code",
   "execution_count": null,
   "metadata": {
    "colab": {
     "base_uri": "https://localhost:8080/",
     "height": 1000
    },
    "id": "UNvPoHubGIch",
    "outputId": "e112b3f4-8f7c-45f2-958e-96b51663d4e9"
   },
   "outputs": [],
   "source": [
    "dtm.groupby(\"main_expenses\")[\"budget_project_id\"].count().sort_values(ascending=False)"
   ]
  },
  {
   "cell_type": "code",
   "execution_count": null,
   "metadata": {
    "colab": {
     "base_uri": "https://localhost:8080/"
    },
    "id": "29naZVvDGWUb",
    "outputId": "e53ad6e1-4924-472a-9ed6-6a140485e60c"
   },
   "outputs": [],
   "source": [
    "# 事務経費や経済協力費は除いた、100以上ある品目ベースでしらべる\n",
    "target_expenses = [\n",
    "    _expenses\n",
    "    for _expenses in dtm.groupby(\"main_expenses\")[[\"budget_project_id\"]]\n",
    "    .count()\n",
    "    .query(\"budget_project_id >= 100\")\n",
    "    .index\n",
    "    if _expenses not in [\"その他の事項経費\", \"経済協力費\"]\n",
    "]\n",
    "target_expenses\n",
    "\n",
    "selected_dtm = dtm.query(\"main_expenses in @target_expenses\")\n",
    "len(selected_dtm)"
   ]
  },
  {
   "cell_type": "code",
   "execution_count": null,
   "metadata": {
    "colab": {
     "base_uri": "https://localhost:8080/",
     "height": 645
    },
    "id": "eFDhQdzcH1_9",
    "outputId": "ed8e3a80-b7f3-4c0a-ae1a-88561492da40"
   },
   "outputs": [],
   "source": [
    "selected_dtm.pivot_table(\n",
    "    index=\"ministry\",\n",
    "    columns=\"main_expenses\",\n",
    "    values=\"budget_project_id\",\n",
    "    aggfunc=\"count\",\n",
    ").fillna(0)"
   ]
  },
  {
   "cell_type": "code",
   "execution_count": null,
   "metadata": {
    "colab": {
     "base_uri": "https://localhost:8080/"
    },
    "id": "o2_zr_VILlAs",
    "outputId": "3d773e01-e23a-4833-c8ee-44d8e8f959f0"
   },
   "outputs": [],
   "source": [
    "plan_words_list = [\"実証\", \"PoC\", \"poc\", \"POC\", \"POC\", \"概念実証\", \"調査\", \"調査事業\"]\n",
    "pattern = \"|\".join(plan_words_list)\n",
    "selected_dtm[\"plan_project\"] = (\n",
    "    selected_dtm[\"output\"].str.contains(pattern, case=False, na=False).astype(int)\n",
    ")"
   ]
  },
  {
   "cell_type": "code",
   "execution_count": null,
   "metadata": {
    "colab": {
     "base_uri": "https://localhost:8080/",
     "height": 645
    },
    "id": "2oSfmeU8McF2",
    "outputId": "43f87631-af2a-4374-aa6d-b112d0336552"
   },
   "outputs": [],
   "source": [
    "selected_dtm.pivot_table(\n",
    "    index=\"ministry\",\n",
    "    columns=\"plan_project\",\n",
    "    values=\"budget_project_id\",\n",
    "    aggfunc=\"count\",\n",
    ").fillna(0)"
   ]
  },
  {
   "cell_type": "code",
   "execution_count": null,
   "metadata": {
    "colab": {
     "base_uri": "https://localhost:8080/",
     "height": 363
    },
    "id": "asnpur0DqqVL",
    "outputId": "176fd4ac-972c-4108-f5c8-7c63bee2e8a8"
   },
   "outputs": [],
   "source": [
    "selected_dtm.pivot_table(\n",
    "    index=\"main_expenses\",\n",
    "    columns=\"plan_project\",\n",
    "    values=\"budget_project_id\",\n",
    "    aggfunc=\"count\",\n",
    ").fillna(0)"
   ]
  },
  {
   "cell_type": "code",
   "execution_count": null,
   "metadata": {
    "colab": {
     "base_uri": "https://localhost:8080/",
     "height": 551
    },
    "id": "DSnCp2HIrrZo",
    "outputId": "8925bcd6-c9fa-4271-a21b-24ef5e36c318"
   },
   "outputs": [],
   "source": [
    "# サンプルチェック\n",
    "selected_dtm.query(\"budget_project_id == 6080\").T"
   ]
  },
  {
   "cell_type": "markdown",
   "metadata": {},
   "source": [
    "## LLM score"
   ]
  },
  {
   "cell_type": "code",
   "execution_count": null,
   "metadata": {
    "id": "jkN1uegVKaqp"
   },
   "outputs": [],
   "source": [
    "client = OpenAI(\n",
    "    api_key= os.environ.get('OPENAI_API_KEY'),\n",
    ")"
   ]
  },
  {
   "cell_type": "code",
   "execution_count": null,
   "metadata": {
    "id": "PxIHflStsHD2"
   },
   "outputs": [],
   "source": [
    "content_text = \"\"\"\n",
    "# 役割\n",
    "あなたはとても優秀な日本の国家公務員です。各省予算事業を評価する立場にあります。\\n\n",
    "必ず厳しく評価してください。\\n\n",
    "与えられたデータをよく読み、指定された観点・基準に基づき評価してください。\\n\n",
    "\n",
    "# タスク\n",
    "あなたは、「指定された観点・基準」に基づき、5段階で評価してください。\\n\n",
    "5 : 上位5事業（良い）\n",
    "4 : やや良い\n",
    "3 : 普通\n",
    "2 : やや悪い\n",
    "1 : 下位5事業（悪い）\n",
    "\n",
    "# 評価基準：Consistency of output and outcomes\n",
    "- 事業概要を読み、outputに対する設定アウトカムの適切性を評価していないか。\n",
    "- 低評価 -1：output -> outcomeに飛躍がある場合は減点\n",
    "- 低評価 -1：outcomeのstep間に飛躍がある場合は減点\n",
    "- 低評価 -3：無理やりoutcomeを設定していないか？本質的な意味のあるOutcomeでない場合は大きく減点\n",
    "- 低評価 -3：outputがそもそも課題の解決に直接つながっていない場合は大きく減点\n",
    "- 評価対象外：客観性や具体性、明確性は問わない（客観的・具体的であっても高得点にしてはいけない）\n",
    "\n",
    "# 作業手順\n",
    "## step1 ベンチーマークを読み込む\n",
    "- 上位5事業（評価=5）と下位5事業（評価＝１）を決める\n",
    "- また全体の平均レベルを把握する\n",
    "- 厳しく採点すること\n",
    "- まず得点の理由を考えて、それに基づいて採点すること\n",
    "\n",
    "## step2 評価\n",
    "- step1で確認したベンチーマーク(平均レベル)と「比較して」それぞれに5段階で評価を与えます\n",
    "- 必ずベンチーマークを意識して、相対的に評価しなさい\n",
    "\n",
    "# 注意：\n",
    "- 対象予算事業すべてを評価してください\n",
    "- 最低でも評価5は5事業、評価1も5事業、必ず選定すること\n",
    "- 評価３（普通）は極力つかわないようにすること\n",
    "\n",
    "# 出力はdict ※これ以外は絶対出力しないで！(不足説明は絶対不要)\\n\n",
    "- budget_project_id: 与えられた予算事業IDに対応\\n\n",
    "- point: あなたが付与した点数\\n\n",
    "- reason: 得点の理由\\n\n",
    "# 出力形式 ※これ以外は絶対出力しないで！！\\n\n",
    "[\n",
    "    {\"budget_project_id\" : 3503, \"point\": 4, \"reason\" : \"~~~だから。\"},\n",
    "    {\"budget_project_id\" : 3533, \"point\": 1, \"reason\" : \"~~~がよくわからない。\"},\n",
    "]\n",
    "\"\"\"\n"
   ]
  },
  {
   "cell_type": "code",
   "execution_count": null,
   "metadata": {
    "id": "FImK4tBUs5nT"
   },
   "outputs": [],
   "source": [
    "def ask_llm_comparison(content_text, dtm_text):\n",
    "    return client.responses.create(\n",
    "        model=\"gpt-4o\",\n",
    "        temperature=0,\n",
    "        input=[\n",
    "            {\"role\": \"developer\", \"content\": content_text},\n",
    "            {\n",
    "                \"role\": \"user\",\n",
    "                \"content\": [\n",
    "                    {\n",
    "                        \"type\": \"input_text\",\n",
    "                        \"text\": f\"評価しなさい。データ : {dtm_text}\",\n",
    "                    },\n",
    "                ]\n",
    "            }\n",
    "        ]\n",
    "    )\n"
   ]
  },
  {
   "cell_type": "code",
   "execution_count": null,
   "metadata": {
    "colab": {
     "base_uri": "https://localhost:8080/"
    },
    "id": "qniAfPbatPaf",
    "outputId": "3d771d79-50bb-4489-9ff2-c58a9f94b307"
   },
   "outputs": [],
   "source": [
    "result_logic1_list = []\n",
    "for _expenses in target_expenses:\n",
    "    selected_dtm_with_exp = (\n",
    "        selected_dtm.query(\"main_expenses == @_expenses\")\n",
    "        .sample(frac=1, random_state=0)\n",
    "        .reset_index(drop=True)\n",
    "    )\n",
    "    bin_labels = [0, 1, 2]\n",
    "    selected_dtm_with_exp[\"bin\"] = pd.qcut(\n",
    "        selected_dtm_with_exp.index, len(bin_labels), labels=bin_labels\n",
    "    )\n",
    "    for _bin in bin_labels:\n",
    "        dtm_with_class_bin = selected_dtm_with_exp.query(\"bin == @_bin\")\n",
    "        dtm_text = dtm_with_class_bin[\n",
    "            [\"budget_project_id\", \"project_summary\", \"output\", \"outcomes\"]\n",
    "        ].to_csv(index=False)\n",
    "        response = ask_llm_comparison(content_text, dtm_text)\n",
    "        if len(response.output_text.split(\"json\")) > 1:\n",
    "            logic_point = pd.DataFrame(\n",
    "                json.loads(\n",
    "                    response.output_text.split(\"json\")[1]\n",
    "                    .strip(\"```json\\n\")\n",
    "                    .strip(\"```\")\n",
    "                )\n",
    "            )\n",
    "        else:\n",
    "            logic_point = pd.DataFrame(\n",
    "                json.loads(response.output_text.strip(\"```json\\n\").strip(\"```\"))\n",
    "            )\n",
    "        logic_point.columns = [\"budget_project_id\", \"logic1_point\", \"logic1_reason\"]\n",
    "        logic_point = dtm_with_class_bin.merge(\n",
    "            logic_point, on=\"budget_project_id\", how=\"left\"\n",
    "        )\n",
    "        print(f\"{_expenses}, {len(dtm_with_class_bin)} , {len(logic_point)}\")\n",
    "        print(\n",
    "            logic_point.groupby(\"plan_project\").agg(\n",
    "                {\"logic1_point\": [\"count\", \"mean\", \"std\"]}\n",
    "            )\n",
    "        )\n",
    "        result_logic1_list.append(logic_point)\n",
    "    time.sleep(0.5)\n",
    "logic1_point_result = pd.concat(result_logic1_list)"
   ]
  },
  {
   "cell_type": "markdown",
   "metadata": {},
   "source": [
    "## output"
   ]
  },
  {
   "cell_type": "code",
   "execution_count": null,
   "metadata": {
    "id": "HqSsg3fDqkrV"
   },
   "outputs": [],
   "source": [
    "today_str = datetime.now().strftime(\"%Y%m%d\")\n",
    "filename = f\"{today_str}_pre_logic_point_data.csv\"\n",
    "logic1_point_result.to_csv(BASE_PATH + \"dtm/\" + filename, index=False)"
   ]
  },
  {
   "cell_type": "code",
   "execution_count": null,
   "metadata": {
    "colab": {
     "base_uri": "https://localhost:8080/",
     "height": 344
    },
    "id": "TY6YgJWewefT",
    "outputId": "901a22f8-3804-461f-96b2-fdd7fd05eb73"
   },
   "outputs": [],
   "source": [
    "logic1_point_result.query(\"budget_project_id == 6080\")"
   ]
  },
  {
   "cell_type": "markdown",
   "metadata": {},
   "source": [
    "# FYI"
   ]
  },
  {
   "cell_type": "code",
   "execution_count": null,
   "metadata": {
    "colab": {
     "base_uri": "https://localhost:8080/",
     "height": 175
    },
    "id": "sPo_z5vQt8X8",
    "outputId": "3359da60-c5f0-4aaa-fd9c-9dd1a378cfe9"
   },
   "outputs": [],
   "source": [
    "logic1_point_result.groupby(\"plan_project\").agg(\n",
    "    {\"logic1_point\": [\"count\", \"mean\", \"std\"]}\n",
    ")"
   ]
  },
  {
   "cell_type": "code",
   "execution_count": null,
   "metadata": {
    "colab": {
     "base_uri": "https://localhost:8080/",
     "height": 143
    },
    "id": "yN7iIxsSuE1M",
    "outputId": "59f9f01f-33ea-485d-d0ca-c00479aaad35"
   },
   "outputs": [],
   "source": [
    "logic1_point_result.pivot_table(\n",
    "    index=\"plan_project\",\n",
    "    columns=\"logic1_point\",\n",
    "    values=\"budget_project_id\",\n",
    "    aggfunc=\"count\",\n",
    ").fillna(0)"
   ]
  },
  {
   "cell_type": "code",
   "execution_count": null,
   "metadata": {
    "colab": {
     "base_uri": "https://localhost:8080/"
    },
    "id": "05cxS8-61Cmk",
    "outputId": "7dad74cf-d6c5-4403-87ba-e78098197f5a"
   },
   "outputs": [],
   "source": [
    "# カイ2乗検定\n",
    "chi2, p, dof, expected = stats.chi2_contingency(\n",
    "    logic1_point_result.pivot_table(\n",
    "        index=\"plan_project\",\n",
    "        columns=\"logic1_point\",\n",
    "        values=\"budget_project_id\",\n",
    "        aggfunc=\"count\",\n",
    "    ).fillna(0)\n",
    ")\n",
    "\n",
    "# 結果の表示\n",
    "print(f\"カイ2乗統計量: {chi2}\")\n",
    "print(f\"p値: {p}\")\n",
    "print(f\"自由度: {dof}\")\n",
    "print(f\"期待度数: \\n{expected}\")"
   ]
  },
  {
   "cell_type": "code",
   "execution_count": null,
   "metadata": {
    "colab": {
     "base_uri": "https://localhost:8080/",
     "height": 1000
    },
    "id": "1YiNVyHz4lwF",
    "outputId": "e30f52bb-ccc4-4528-ed31-e2ef45df8ae7"
   },
   "outputs": [],
   "source": [
    "for _expenses in target_expenses:\n",
    "    _point = logic1_point_result.query(\"main_expenses == @_expenses\")\n",
    "\n",
    "    # カイ2乗検定\n",
    "    chi2, p, dof, expected = stats.chi2_contingency(\n",
    "        _point.pivot_table(\n",
    "            index=\"plan_project\",\n",
    "            columns=\"logic1_point\",\n",
    "            values=\"budget_project_id\",\n",
    "            aggfunc=\"count\",\n",
    "        ).fillna(0)\n",
    "    )\n",
    "\n",
    "    # 結果の表示\n",
    "    print(_expenses)\n",
    "    display(\n",
    "        _point.groupby(\"plan_project\").agg({\"logic1_point\": [\"count\", \"mean\", \"std\"]})\n",
    "    )\n",
    "    print(f\"カイ2乗統計量: {chi2}\")\n",
    "    print(f\"p値: {p}\")\n",
    "    print(f\"自由度: {dof}\")\n",
    "    print(\"#\" * 20)"
   ]
  }
 ],
 "metadata": {
  "colab": {
   "authorship_tag": "ABX9TyNVZjD22mtaxaYtasaGNq0F",
   "include_colab_link": true,
   "provenance": []
  },
  "kernelspec": {
   "display_name": "Python 3 (ipykernel)",
   "language": "python",
   "name": "python3"
  },
  "language_info": {
   "codemirror_mode": {
    "name": "ipython",
    "version": 3
   },
   "file_extension": ".py",
   "mimetype": "text/x-python",
   "name": "python",
   "nbconvert_exporter": "python",
   "pygments_lexer": "ipython3",
   "version": "3.11.5"
  }
 },
 "nbformat": 4,
 "nbformat_minor": 1
}
